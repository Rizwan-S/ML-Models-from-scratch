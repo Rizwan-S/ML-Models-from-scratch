{
  "nbformat": 4,
  "nbformat_minor": 0,
  "metadata": {
    "colab": {
      "name": "DiabetesAssgn1.ipynb",
      "provenance": [],
      "collapsed_sections": []
    },
    "kernelspec": {
      "display_name": "Python 3",
      "name": "python3"
    },
    "language_info": {
      "name": "python"
    }
  },
  "cells": [
    {
      "cell_type": "markdown",
      "metadata": {
        "id": "7qcEjKwDJ1Ts"
      },
      "source": [
        "**Classification Task**\n",
        "\n",
        "Given a dataset 'diabetes.csv', our aim is to classify whether patient in the dataset have diabetes or not. The dataset consists of 8 features namely \"Pregnancies, Glucose, Blood Pressure, Skin Thickness, Insulin, BMI, DiabetesPedigreeFunction and Age\". \n",
        "\n",
        "The target variable is outcome column. Accuracy is the metric for evaluation.\n"
      ]
    },
    {
      "cell_type": "markdown",
      "metadata": {
        "id": "eyG_ANOp-Dog"
      },
      "source": [
        "Import the necessary libraries"
      ]
    },
    {
      "cell_type": "code",
      "metadata": {
        "id": "jd9CE_TpMLYY"
      },
      "source": [
        "#Import relevant libraries\n",
        "import numpy as np\n",
        "import pandas as pd\n",
        "import matplotlib.pyplot as plt \n",
        "import seaborn as sns\n",
        "from scipy import stats\n",
        "import math\n",
        "\n",
        "df = pd.read_csv('/content/diabetes.csv')"
      ],
      "execution_count": 1,
      "outputs": []
    },
    {
      "cell_type": "markdown",
      "metadata": {
        "id": "Koy-birOo2jI"
      },
      "source": [
        "#1. Data Preprocessing"
      ]
    },
    {
      "cell_type": "markdown",
      "metadata": {
        "id": "JmSK1d90pOFs"
      },
      "source": [
        "##Given dataset"
      ]
    },
    {
      "cell_type": "code",
      "metadata": {
        "colab": {
          "base_uri": "https://localhost:8080/",
          "height": 206
        },
        "id": "FVqJ26TPnN8v",
        "outputId": "b67b6ca7-0a76-4755-c6b6-acea1a1d3dc3"
      },
      "source": [
        "df.head()"
      ],
      "execution_count": 2,
      "outputs": [
        {
          "output_type": "execute_result",
          "data": {
            "text/html": [
              "<div>\n",
              "<style scoped>\n",
              "    .dataframe tbody tr th:only-of-type {\n",
              "        vertical-align: middle;\n",
              "    }\n",
              "\n",
              "    .dataframe tbody tr th {\n",
              "        vertical-align: top;\n",
              "    }\n",
              "\n",
              "    .dataframe thead th {\n",
              "        text-align: right;\n",
              "    }\n",
              "</style>\n",
              "<table border=\"1\" class=\"dataframe\">\n",
              "  <thead>\n",
              "    <tr style=\"text-align: right;\">\n",
              "      <th></th>\n",
              "      <th>Pregnancies</th>\n",
              "      <th>Glucose</th>\n",
              "      <th>BloodPressure</th>\n",
              "      <th>SkinThickness</th>\n",
              "      <th>Insulin</th>\n",
              "      <th>BMI</th>\n",
              "      <th>DiabetesPedigreeFunction</th>\n",
              "      <th>Age</th>\n",
              "      <th>Outcome</th>\n",
              "    </tr>\n",
              "  </thead>\n",
              "  <tbody>\n",
              "    <tr>\n",
              "      <th>0</th>\n",
              "      <td>6</td>\n",
              "      <td>148</td>\n",
              "      <td>72</td>\n",
              "      <td>35</td>\n",
              "      <td>0</td>\n",
              "      <td>33.6</td>\n",
              "      <td>0.627</td>\n",
              "      <td>50</td>\n",
              "      <td>1</td>\n",
              "    </tr>\n",
              "    <tr>\n",
              "      <th>1</th>\n",
              "      <td>1</td>\n",
              "      <td>85</td>\n",
              "      <td>66</td>\n",
              "      <td>29</td>\n",
              "      <td>0</td>\n",
              "      <td>26.6</td>\n",
              "      <td>0.351</td>\n",
              "      <td>31</td>\n",
              "      <td>0</td>\n",
              "    </tr>\n",
              "    <tr>\n",
              "      <th>2</th>\n",
              "      <td>8</td>\n",
              "      <td>183</td>\n",
              "      <td>64</td>\n",
              "      <td>0</td>\n",
              "      <td>0</td>\n",
              "      <td>23.3</td>\n",
              "      <td>0.672</td>\n",
              "      <td>32</td>\n",
              "      <td>1</td>\n",
              "    </tr>\n",
              "    <tr>\n",
              "      <th>3</th>\n",
              "      <td>1</td>\n",
              "      <td>89</td>\n",
              "      <td>66</td>\n",
              "      <td>23</td>\n",
              "      <td>94</td>\n",
              "      <td>28.1</td>\n",
              "      <td>0.167</td>\n",
              "      <td>21</td>\n",
              "      <td>0</td>\n",
              "    </tr>\n",
              "    <tr>\n",
              "      <th>4</th>\n",
              "      <td>0</td>\n",
              "      <td>137</td>\n",
              "      <td>40</td>\n",
              "      <td>35</td>\n",
              "      <td>168</td>\n",
              "      <td>43.1</td>\n",
              "      <td>2.288</td>\n",
              "      <td>33</td>\n",
              "      <td>1</td>\n",
              "    </tr>\n",
              "  </tbody>\n",
              "</table>\n",
              "</div>"
            ],
            "text/plain": [
              "   Pregnancies  Glucose  BloodPressure  ...  DiabetesPedigreeFunction  Age  Outcome\n",
              "0            6      148             72  ...                     0.627   50        1\n",
              "1            1       85             66  ...                     0.351   31        0\n",
              "2            8      183             64  ...                     0.672   32        1\n",
              "3            1       89             66  ...                     0.167   21        0\n",
              "4            0      137             40  ...                     2.288   33        1\n",
              "\n",
              "[5 rows x 9 columns]"
            ]
          },
          "metadata": {},
          "execution_count": 2
        }
      ]
    },
    {
      "cell_type": "code",
      "metadata": {
        "colab": {
          "base_uri": "https://localhost:8080/",
          "height": 300
        },
        "id": "mUOlPyuwngFk",
        "outputId": "81e4dd3f-24d5-4847-ab3e-ba3d9819b0e0"
      },
      "source": [
        "df.describe()"
      ],
      "execution_count": 3,
      "outputs": [
        {
          "output_type": "execute_result",
          "data": {
            "text/html": [
              "<div>\n",
              "<style scoped>\n",
              "    .dataframe tbody tr th:only-of-type {\n",
              "        vertical-align: middle;\n",
              "    }\n",
              "\n",
              "    .dataframe tbody tr th {\n",
              "        vertical-align: top;\n",
              "    }\n",
              "\n",
              "    .dataframe thead th {\n",
              "        text-align: right;\n",
              "    }\n",
              "</style>\n",
              "<table border=\"1\" class=\"dataframe\">\n",
              "  <thead>\n",
              "    <tr style=\"text-align: right;\">\n",
              "      <th></th>\n",
              "      <th>Pregnancies</th>\n",
              "      <th>Glucose</th>\n",
              "      <th>BloodPressure</th>\n",
              "      <th>SkinThickness</th>\n",
              "      <th>Insulin</th>\n",
              "      <th>BMI</th>\n",
              "      <th>DiabetesPedigreeFunction</th>\n",
              "      <th>Age</th>\n",
              "      <th>Outcome</th>\n",
              "    </tr>\n",
              "  </thead>\n",
              "  <tbody>\n",
              "    <tr>\n",
              "      <th>count</th>\n",
              "      <td>768.000000</td>\n",
              "      <td>768.000000</td>\n",
              "      <td>768.000000</td>\n",
              "      <td>768.000000</td>\n",
              "      <td>768.000000</td>\n",
              "      <td>768.000000</td>\n",
              "      <td>768.000000</td>\n",
              "      <td>768.000000</td>\n",
              "      <td>768.000000</td>\n",
              "    </tr>\n",
              "    <tr>\n",
              "      <th>mean</th>\n",
              "      <td>3.845052</td>\n",
              "      <td>120.894531</td>\n",
              "      <td>69.105469</td>\n",
              "      <td>20.536458</td>\n",
              "      <td>79.799479</td>\n",
              "      <td>31.992578</td>\n",
              "      <td>0.471876</td>\n",
              "      <td>33.240885</td>\n",
              "      <td>0.348958</td>\n",
              "    </tr>\n",
              "    <tr>\n",
              "      <th>std</th>\n",
              "      <td>3.369578</td>\n",
              "      <td>31.972618</td>\n",
              "      <td>19.355807</td>\n",
              "      <td>15.952218</td>\n",
              "      <td>115.244002</td>\n",
              "      <td>7.884160</td>\n",
              "      <td>0.331329</td>\n",
              "      <td>11.760232</td>\n",
              "      <td>0.476951</td>\n",
              "    </tr>\n",
              "    <tr>\n",
              "      <th>min</th>\n",
              "      <td>0.000000</td>\n",
              "      <td>0.000000</td>\n",
              "      <td>0.000000</td>\n",
              "      <td>0.000000</td>\n",
              "      <td>0.000000</td>\n",
              "      <td>0.000000</td>\n",
              "      <td>0.078000</td>\n",
              "      <td>21.000000</td>\n",
              "      <td>0.000000</td>\n",
              "    </tr>\n",
              "    <tr>\n",
              "      <th>25%</th>\n",
              "      <td>1.000000</td>\n",
              "      <td>99.000000</td>\n",
              "      <td>62.000000</td>\n",
              "      <td>0.000000</td>\n",
              "      <td>0.000000</td>\n",
              "      <td>27.300000</td>\n",
              "      <td>0.243750</td>\n",
              "      <td>24.000000</td>\n",
              "      <td>0.000000</td>\n",
              "    </tr>\n",
              "    <tr>\n",
              "      <th>50%</th>\n",
              "      <td>3.000000</td>\n",
              "      <td>117.000000</td>\n",
              "      <td>72.000000</td>\n",
              "      <td>23.000000</td>\n",
              "      <td>30.500000</td>\n",
              "      <td>32.000000</td>\n",
              "      <td>0.372500</td>\n",
              "      <td>29.000000</td>\n",
              "      <td>0.000000</td>\n",
              "    </tr>\n",
              "    <tr>\n",
              "      <th>75%</th>\n",
              "      <td>6.000000</td>\n",
              "      <td>140.250000</td>\n",
              "      <td>80.000000</td>\n",
              "      <td>32.000000</td>\n",
              "      <td>127.250000</td>\n",
              "      <td>36.600000</td>\n",
              "      <td>0.626250</td>\n",
              "      <td>41.000000</td>\n",
              "      <td>1.000000</td>\n",
              "    </tr>\n",
              "    <tr>\n",
              "      <th>max</th>\n",
              "      <td>17.000000</td>\n",
              "      <td>199.000000</td>\n",
              "      <td>122.000000</td>\n",
              "      <td>99.000000</td>\n",
              "      <td>846.000000</td>\n",
              "      <td>67.100000</td>\n",
              "      <td>2.420000</td>\n",
              "      <td>81.000000</td>\n",
              "      <td>1.000000</td>\n",
              "    </tr>\n",
              "  </tbody>\n",
              "</table>\n",
              "</div>"
            ],
            "text/plain": [
              "       Pregnancies     Glucose  ...         Age     Outcome\n",
              "count   768.000000  768.000000  ...  768.000000  768.000000\n",
              "mean      3.845052  120.894531  ...   33.240885    0.348958\n",
              "std       3.369578   31.972618  ...   11.760232    0.476951\n",
              "min       0.000000    0.000000  ...   21.000000    0.000000\n",
              "25%       1.000000   99.000000  ...   24.000000    0.000000\n",
              "50%       3.000000  117.000000  ...   29.000000    0.000000\n",
              "75%       6.000000  140.250000  ...   41.000000    1.000000\n",
              "max      17.000000  199.000000  ...   81.000000    1.000000\n",
              "\n",
              "[8 rows x 9 columns]"
            ]
          },
          "metadata": {},
          "execution_count": 3
        }
      ]
    },
    {
      "cell_type": "markdown",
      "metadata": {
        "id": "xcXi7N1H-47P"
      },
      "source": [
        "From the statistics of the data, we can infer that the given dataset needs preprocessing for use. The required preprocessing is done and discussed in detail further ahead."
      ]
    },
    {
      "cell_type": "markdown",
      "metadata": {
        "id": "rx-B5QTWAV6d"
      },
      "source": [
        "##Data Preprocessing"
      ]
    },
    {
      "cell_type": "markdown",
      "metadata": {
        "id": "CyQWUqIjjyX8"
      },
      "source": [
        "Number of zeros in each feature of the dataset is given below."
      ]
    },
    {
      "cell_type": "code",
      "metadata": {
        "colab": {
          "base_uri": "https://localhost:8080/"
        },
        "id": "95iTITvjjflJ",
        "outputId": "9002b646-fb96-4c4d-cbfb-b9a939521f3e"
      },
      "source": [
        "(df == 0).sum()"
      ],
      "execution_count": 4,
      "outputs": [
        {
          "output_type": "execute_result",
          "data": {
            "text/plain": [
              "Pregnancies                 111\n",
              "Glucose                       5\n",
              "BloodPressure                35\n",
              "SkinThickness               227\n",
              "Insulin                     374\n",
              "BMI                          11\n",
              "DiabetesPedigreeFunction      0\n",
              "Age                           0\n",
              "Outcome                     500\n",
              "dtype: int64"
            ]
          },
          "metadata": {},
          "execution_count": 4
        }
      ]
    },
    {
      "cell_type": "markdown",
      "metadata": {
        "id": "NJLyfd6Mi8FQ"
      },
      "source": [
        "### Deleting rows:"
      ]
    },
    {
      "cell_type": "markdown",
      "metadata": {
        "id": "T_LeALOLi_Vv"
      },
      "source": [
        "We'll delete rows where Glucose, BloodPressure and BMI is zero. This is because of very small number of zeros in the columns."
      ]
    },
    {
      "cell_type": "code",
      "metadata": {
        "id": "2sVSQnfDkK2X"
      },
      "source": [
        "df.drop(axis=\"rows\", labels = df.index[df['Glucose'] == 0], inplace = True)\n",
        "df.drop(axis=\"rows\", labels = df.index[df['BloodPressure'] == 0], inplace = True)\n",
        "df.drop(axis=\"rows\", labels = df.index[df['BMI'] == 0], inplace = True)"
      ],
      "execution_count": 5,
      "outputs": []
    },
    {
      "cell_type": "markdown",
      "metadata": {
        "id": "dCjzffijklJG"
      },
      "source": [
        "###Deleting Columns:"
      ]
    },
    {
      "cell_type": "markdown",
      "metadata": {
        "id": "66vMpjXBkoEd"
      },
      "source": [
        "We'll remove the columns which have lots of zeros in them. These zeros are illogical values."
      ]
    },
    {
      "cell_type": "code",
      "metadata": {
        "id": "wLVlp_j5kxDA"
      },
      "source": [
        "df.drop(axis=\"columns\", labels=\"SkinThickness\", inplace=True) \n",
        "df.drop(axis=\"columns\", labels=\"Insulin\", inplace=True)"
      ],
      "execution_count": 6,
      "outputs": []
    },
    {
      "cell_type": "markdown",
      "metadata": {
        "id": "NgDrXrMtQCN5"
      },
      "source": [
        "Check for ? in the dataset"
      ]
    },
    {
      "cell_type": "code",
      "metadata": {
        "colab": {
          "base_uri": "https://localhost:8080/"
        },
        "id": "vyGHtpbT92RA",
        "outputId": "e51e5ef5-63a4-476f-c268-b4d413a7e8ed"
      },
      "source": [
        "(df=='?').sum()"
      ],
      "execution_count": 7,
      "outputs": [
        {
          "output_type": "execute_result",
          "data": {
            "text/plain": [
              "Pregnancies                 0\n",
              "Glucose                     0\n",
              "BloodPressure               0\n",
              "BMI                         0\n",
              "DiabetesPedigreeFunction    0\n",
              "Age                         0\n",
              "Outcome                     0\n",
              "dtype: int64"
            ]
          },
          "metadata": {},
          "execution_count": 7
        }
      ]
    },
    {
      "cell_type": "markdown",
      "metadata": {
        "id": "h6gUqCCbYKSN"
      },
      "source": [
        "###Duplicate rows:"
      ]
    },
    {
      "cell_type": "markdown",
      "metadata": {
        "id": "7j-XdN6cYOrr"
      },
      "source": [
        "We need to check and remove the duplicate rows from the dataset. Here, there are no duplicate rows."
      ]
    },
    {
      "cell_type": "code",
      "metadata": {
        "colab": {
          "base_uri": "https://localhost:8080/"
        },
        "id": "y-EAJAQ0YS52",
        "outputId": "4776a2a5-ee66-49d2-a871-4148311449ba"
      },
      "source": [
        "df.index[df.duplicated()]"
      ],
      "execution_count": 8,
      "outputs": [
        {
          "output_type": "execute_result",
          "data": {
            "text/plain": [
              "Int64Index([], dtype='int64')"
            ]
          },
          "metadata": {},
          "execution_count": 8
        }
      ]
    },
    {
      "cell_type": "markdown",
      "metadata": {
        "id": "dFz3gRH3x2sO"
      },
      "source": [
        "###Data Description:"
      ]
    },
    {
      "cell_type": "code",
      "metadata": {
        "colab": {
          "base_uri": "https://localhost:8080/",
          "height": 300
        },
        "id": "_g1xiMfDLniQ",
        "outputId": "25f9e3bf-820f-4aeb-a57f-ee2f8d939784"
      },
      "source": [
        "df.describe()"
      ],
      "execution_count": 9,
      "outputs": [
        {
          "output_type": "execute_result",
          "data": {
            "text/html": [
              "<div>\n",
              "<style scoped>\n",
              "    .dataframe tbody tr th:only-of-type {\n",
              "        vertical-align: middle;\n",
              "    }\n",
              "\n",
              "    .dataframe tbody tr th {\n",
              "        vertical-align: top;\n",
              "    }\n",
              "\n",
              "    .dataframe thead th {\n",
              "        text-align: right;\n",
              "    }\n",
              "</style>\n",
              "<table border=\"1\" class=\"dataframe\">\n",
              "  <thead>\n",
              "    <tr style=\"text-align: right;\">\n",
              "      <th></th>\n",
              "      <th>Pregnancies</th>\n",
              "      <th>Glucose</th>\n",
              "      <th>BloodPressure</th>\n",
              "      <th>BMI</th>\n",
              "      <th>DiabetesPedigreeFunction</th>\n",
              "      <th>Age</th>\n",
              "      <th>Outcome</th>\n",
              "    </tr>\n",
              "  </thead>\n",
              "  <tbody>\n",
              "    <tr>\n",
              "      <th>count</th>\n",
              "      <td>724.000000</td>\n",
              "      <td>724.000000</td>\n",
              "      <td>724.000000</td>\n",
              "      <td>724.000000</td>\n",
              "      <td>724.000000</td>\n",
              "      <td>724.000000</td>\n",
              "      <td>724.000000</td>\n",
              "    </tr>\n",
              "    <tr>\n",
              "      <th>mean</th>\n",
              "      <td>3.866022</td>\n",
              "      <td>121.882597</td>\n",
              "      <td>72.400552</td>\n",
              "      <td>32.467127</td>\n",
              "      <td>0.474765</td>\n",
              "      <td>33.350829</td>\n",
              "      <td>0.343923</td>\n",
              "    </tr>\n",
              "    <tr>\n",
              "      <th>std</th>\n",
              "      <td>3.362803</td>\n",
              "      <td>30.750030</td>\n",
              "      <td>12.379870</td>\n",
              "      <td>6.888941</td>\n",
              "      <td>0.332315</td>\n",
              "      <td>11.765393</td>\n",
              "      <td>0.475344</td>\n",
              "    </tr>\n",
              "    <tr>\n",
              "      <th>min</th>\n",
              "      <td>0.000000</td>\n",
              "      <td>44.000000</td>\n",
              "      <td>24.000000</td>\n",
              "      <td>18.200000</td>\n",
              "      <td>0.078000</td>\n",
              "      <td>21.000000</td>\n",
              "      <td>0.000000</td>\n",
              "    </tr>\n",
              "    <tr>\n",
              "      <th>25%</th>\n",
              "      <td>1.000000</td>\n",
              "      <td>99.750000</td>\n",
              "      <td>64.000000</td>\n",
              "      <td>27.500000</td>\n",
              "      <td>0.245000</td>\n",
              "      <td>24.000000</td>\n",
              "      <td>0.000000</td>\n",
              "    </tr>\n",
              "    <tr>\n",
              "      <th>50%</th>\n",
              "      <td>3.000000</td>\n",
              "      <td>117.000000</td>\n",
              "      <td>72.000000</td>\n",
              "      <td>32.400000</td>\n",
              "      <td>0.379000</td>\n",
              "      <td>29.000000</td>\n",
              "      <td>0.000000</td>\n",
              "    </tr>\n",
              "    <tr>\n",
              "      <th>75%</th>\n",
              "      <td>6.000000</td>\n",
              "      <td>142.000000</td>\n",
              "      <td>80.000000</td>\n",
              "      <td>36.600000</td>\n",
              "      <td>0.627500</td>\n",
              "      <td>41.000000</td>\n",
              "      <td>1.000000</td>\n",
              "    </tr>\n",
              "    <tr>\n",
              "      <th>max</th>\n",
              "      <td>17.000000</td>\n",
              "      <td>199.000000</td>\n",
              "      <td>122.000000</td>\n",
              "      <td>67.100000</td>\n",
              "      <td>2.420000</td>\n",
              "      <td>81.000000</td>\n",
              "      <td>1.000000</td>\n",
              "    </tr>\n",
              "  </tbody>\n",
              "</table>\n",
              "</div>"
            ],
            "text/plain": [
              "       Pregnancies     Glucose  ...         Age     Outcome\n",
              "count   724.000000  724.000000  ...  724.000000  724.000000\n",
              "mean      3.866022  121.882597  ...   33.350829    0.343923\n",
              "std       3.362803   30.750030  ...   11.765393    0.475344\n",
              "min       0.000000   44.000000  ...   21.000000    0.000000\n",
              "25%       1.000000   99.750000  ...   24.000000    0.000000\n",
              "50%       3.000000  117.000000  ...   29.000000    0.000000\n",
              "75%       6.000000  142.000000  ...   41.000000    1.000000\n",
              "max      17.000000  199.000000  ...   81.000000    1.000000\n",
              "\n",
              "[8 rows x 7 columns]"
            ]
          },
          "metadata": {},
          "execution_count": 9
        }
      ]
    },
    {
      "cell_type": "markdown",
      "metadata": {
        "id": "57XHxOYjaec_"
      },
      "source": [
        "##Exploratory Data Analysis:"
      ]
    },
    {
      "cell_type": "code",
      "metadata": {
        "colab": {
          "base_uri": "https://localhost:8080/",
          "height": 386
        },
        "id": "FN3BnXvwupoN",
        "outputId": "a0d269ea-bd07-47fb-d90b-491604907a29"
      },
      "source": [
        "sns.displot(df['Outcome'])"
      ],
      "execution_count": 10,
      "outputs": [
        {
          "output_type": "execute_result",
          "data": {
            "text/plain": [
              "<seaborn.axisgrid.FacetGrid at 0x7f46f2b051d0>"
            ]
          },
          "metadata": {},
          "execution_count": 10
        },
        {
          "output_type": "display_data",
          "data": {
            "image/png": "[encoded data removed]",
            "text/plain": [
              "<Figure size 360x360 with 1 Axes>"
            ]
          },
          "metadata": {
            "needs_background": "light"
          }
        }
      ]
    },
    {
      "cell_type": "code",
      "metadata": {
        "colab": {
          "base_uri": "https://localhost:8080/"
        },
        "id": "DdmcdvbxdmhF",
        "outputId": "2cb8fe88-60de-4ca4-85a4-48fbe94ecd42"
      },
      "source": [
        "(df['Outcome'] == 0).sum()"
      ],
      "execution_count": 11,
      "outputs": [
        {
          "output_type": "execute_result",
          "data": {
            "text/plain": [
              "475"
            ]
          },
          "metadata": {},
          "execution_count": 11
        }
      ]
    },
    {
      "cell_type": "code",
      "metadata": {
        "colab": {
          "base_uri": "https://localhost:8080/"
        },
        "id": "l5AlN41GeIxD",
        "outputId": "6c7d7c09-0b58-454b-87cd-f21b0ecd4b90"
      },
      "source": [
        "(df['Outcome'] == 1).sum()"
      ],
      "execution_count": 12,
      "outputs": [
        {
          "output_type": "execute_result",
          "data": {
            "text/plain": [
              "249"
            ]
          },
          "metadata": {},
          "execution_count": 12
        }
      ]
    },
    {
      "cell_type": "code",
      "metadata": {
        "colab": {
          "base_uri": "https://localhost:8080/",
          "height": 1000
        },
        "id": "OckRx25WnHr8",
        "outputId": "4f363c2d-7ea7-4b2e-a256-0d48b31b0951"
      },
      "source": [
        "cont_vars = list(df.columns)[:6]\n",
        "for col in cont_vars:\n",
        "  sns.catplot(kind=\"box\", x=\"Outcome\", y=col, data=df)"
      ],
      "execution_count": 13,
      "outputs": [
        {
          "output_type": "display_data",
          "data": {
            "image/png": "[encoded data removed]",
            "text/plain": [
              "<Figure size 360x360 with 1 Axes>"
            ]
          },
          "metadata": {
            "needs_background": "light"
          }
        },
        {
          "output_type": "display_data",
          "data": {
            "image/png": "[encoded data removed]",
            "text/plain": [
              "<Figure size 360x360 with 1 Axes>"
            ]
          },
          "metadata": {
            "needs_background": "light"
          }
        },
        {
          "output_type": "display_data",
          "data": {
            "image/png": "[encoded data removed]",
            "text/plain": [
              "<Figure size 360x360 with 1 Axes>"
            ]
          },
          "metadata": {
            "needs_background": "light"
          }
        },
        {
          "output_type": "display_data",
          "data": {
            "image/png": "[encoded data removed]",
            "text/plain": [
              "<Figure size 360x360 with 1 Axes>"
            ]
          },
          "metadata": {
            "needs_background": "light"
          }
        },
        {
          "output_type": "display_data",
          "data": {
            "image/png": "[encoded data removed]",
            "text/plain": [
              "<Figure size 360x360 with 1 Axes>"
            ]
          },
          "metadata": {
            "needs_background": "light"
          }
        },
        {
          "output_type": "display_data",
          "data": {
            "image/png": "[encoded data removed]",
            "text/plain": [
              "<Figure size 360x360 with 1 Axes>"
            ]
          },
          "metadata": {
            "needs_background": "light"
          }
        }
      ]
    },
    {
      "cell_type": "code",
      "metadata": {
        "colab": {
          "base_uri": "https://localhost:8080/",
          "height": 1000
        },
        "id": "G2xkM3gpnJz3",
        "outputId": "b84f94ef-2c16-4281-8a59-7cd4a6b86ddd"
      },
      "source": [
        "cont_vars = list(df.columns)[:6]\n",
        "for col in cont_vars:\n",
        "  sns.displot(df, x=col, hue='Outcome')"
      ],
      "execution_count": 14,
      "outputs": [
        {
          "output_type": "display_data",
          "data": {
            "image/png": "[encoded data removed]",
            "text/plain": [
              "<Figure size 413.25x360 with 1 Axes>"
            ]
          },
          "metadata": {
            "needs_background": "light"
          }
        },
        {
          "output_type": "display_data",
          "data": {
            "image/png": "[encoded data removed]",
            "text/plain": [
              "<Figure size 413.25x360 with 1 Axes>"
            ]
          },
          "metadata": {
            "needs_background": "light"
          }
        },
        {
          "output_type": "display_data",
          "data": {
            "image/png": "[encoded data removed]",
            "text/plain": [
              "<Figure size 413.25x360 with 1 Axes>"
            ]
          },
          "metadata": {
            "needs_background": "light"
          }
        },
        {
          "output_type": "display_data",
          "data": {
            "image/png": "[encoded data removed]",
            "text/plain": [
              "<Figure size 413.25x360 with 1 Axes>"
            ]
          },
          "metadata": {
            "needs_background": "light"
          }
        },
        {
          "output_type": "display_data",
          "data": {
            "image/png": "[encoded data removed]",
            "text/plain": [
              "<Figure size 413.25x360 with 1 Axes>"
            ]
          },
          "metadata": {
            "needs_background": "light"
          }
        },
        {
          "output_type": "display_data",
          "data": {
            "image/png": "[encoded data removed]",
            "text/plain": [
              "<Figure size 413.25x360 with 1 Axes>"
            ]
          },
          "metadata": {
            "needs_background": "light"
          }
        }
      ]
    },
    {
      "cell_type": "markdown",
      "metadata": {
        "id": "iSbgJgJnPhlH"
      },
      "source": [
        "Function to remove outliers"
      ]
    },
    {
      "cell_type": "code",
      "metadata": {
        "id": "TYwxU8kVPkeo"
      },
      "source": [
        "def upperlowerbounds(data, feature):\n",
        "  uquartile = data[feature].loc[(data['Outcome'] == 0)].quantile(0.75)\n",
        "  lquartile = data[feature].loc[(data['Outcome'] == 0)].quantile(0.25)\n",
        "  ubound0 = uquartile + 1.5 * (uquartile - lquartile)\n",
        "  lbound0 = lquartile - 1.5 * (uquartile - lquartile)  \n",
        "\n",
        "  uquartile = data[feature].loc[(data['Outcome'] == 1)].quantile(0.75)\n",
        "  lquartile = data[feature].loc[(data['Outcome'] == 1)].quantile(0.25)\n",
        "  ubound1 = uquartile + 1.5 * (uquartile - lquartile)\n",
        "  lbound1 = lquartile - 1.5 * (uquartile - lquartile)\n",
        "\n",
        "  return ubound0, lbound0, ubound1, lbound1\n",
        "\n",
        "def removeOutliers(data, feature):\n",
        "  ub0, lb0, ub1, lb1 = upperlowerbounds(data, feature)\n",
        "  data.drop(axis=\"rows\", labels = data.index[(data['Outcome'] == 0) & (data[feature] > ub0)], inplace = True)\n",
        "  data.drop(axis=\"rows\", labels = data.index[(data['Outcome'] == 0) & (data[feature] < lb0)], inplace = True)\n",
        "\n",
        "  data.drop(axis=\"rows\", labels = data.index[(data['Outcome'] == 1) & (data[feature] > ub1)], inplace = True)\n",
        "  data.drop(axis=\"rows\", labels = data.index[(data['Outcome'] == 1) & (data[feature] < lb1)], inplace = True)"
      ],
      "execution_count": 15,
      "outputs": []
    },
    {
      "cell_type": "markdown",
      "metadata": {
        "id": "yo8YaneVcctI"
      },
      "source": [
        "###Pregnancies:"
      ]
    },
    {
      "cell_type": "code",
      "metadata": {
        "colab": {
          "base_uri": "https://localhost:8080/",
          "height": 386
        },
        "id": "QeNTA0J-RlSu",
        "outputId": "44658346-a661-48a9-af89-44d2de7b1a7f"
      },
      "source": [
        "sns.catplot(kind=\"box\", x=\"Outcome\", y=\"Pregnancies\", data=df)"
      ],
      "execution_count": 16,
      "outputs": [
        {
          "output_type": "execute_result",
          "data": {
            "text/plain": [
              "<seaborn.axisgrid.FacetGrid at 0x7f46e9078650>"
            ]
          },
          "metadata": {},
          "execution_count": 16
        },
        {
          "output_type": "display_data",
          "data": {
            "image/png": "[encoded data removed]",
            "text/plain": [
              "<Figure size 360x360 with 1 Axes>"
            ]
          },
          "metadata": {
            "needs_background": "light"
          }
        }
      ]
    },
    {
      "cell_type": "code",
      "metadata": {
        "id": "LbCM9uuHRoUa"
      },
      "source": [
        "ub0, lb0, ub1, lb1 = upperlowerbounds(df, 'Pregnancies')"
      ],
      "execution_count": 17,
      "outputs": []
    },
    {
      "cell_type": "code",
      "metadata": {
        "colab": {
          "base_uri": "https://localhost:8080/"
        },
        "id": "qZrvBKG0V_GA",
        "outputId": "c42eb870-99e2-438c-eace-2f4ad5168e31"
      },
      "source": [
        "df['Pregnancies'].loc[(df['Outcome'] == 0) & (df['Pregnancies'] > ub0)].count()"
      ],
      "execution_count": 18,
      "outputs": [
        {
          "output_type": "execute_result",
          "data": {
            "text/plain": [
              "10"
            ]
          },
          "metadata": {},
          "execution_count": 18
        }
      ]
    },
    {
      "cell_type": "code",
      "metadata": {
        "id": "iGN6zUqjWE-L"
      },
      "source": [
        "removeOutliers(df, 'Pregnancies')"
      ],
      "execution_count": 19,
      "outputs": []
    },
    {
      "cell_type": "code",
      "metadata": {
        "colab": {
          "base_uri": "https://localhost:8080/",
          "height": 386
        },
        "id": "AWX9VW2zRnTa",
        "outputId": "88f6f647-096c-4acc-ddf4-d3dc6660bd1d"
      },
      "source": [
        "sns.catplot(kind=\"box\", x=\"Outcome\", y=\"Pregnancies\", data=df)"
      ],
      "execution_count": 20,
      "outputs": [
        {
          "output_type": "execute_result",
          "data": {
            "text/plain": [
              "<seaborn.axisgrid.FacetGrid at 0x7f46f200ea90>"
            ]
          },
          "metadata": {},
          "execution_count": 20
        },
        {
          "output_type": "display_data",
          "data": {
            "image/png": "[encoded data removed]",
            "text/plain": [
              "<Figure size 360x360 with 1 Axes>"
            ]
          },
          "metadata": {
            "needs_background": "light"
          }
        }
      ]
    },
    {
      "cell_type": "code",
      "metadata": {
        "colab": {
          "base_uri": "https://localhost:8080/",
          "height": 386
        },
        "id": "F-CYarmYq3P7",
        "outputId": "6b65ed97-3dc2-4f6b-8757-bf53f59556d9"
      },
      "source": [
        "sns.displot(df, x='Pregnancies', hue='Outcome')"
      ],
      "execution_count": 21,
      "outputs": [
        {
          "output_type": "execute_result",
          "data": {
            "text/plain": [
              "<seaborn.axisgrid.FacetGrid at 0x7f46e88ea0d0>"
            ]
          },
          "metadata": {},
          "execution_count": 21
        },
        {
          "output_type": "display_data",
          "data": {
            "image/png": "[encoded data removed]",
            "text/plain": [
              "<Figure size 413.25x360 with 1 Axes>"
            ]
          },
          "metadata": {
            "needs_background": "light"
          }
        }
      ]
    },
    {
      "cell_type": "code",
      "metadata": {
        "id": "NdMAzwU6jqGv"
      },
      "source": [
        "df['Pregnancies'] = df['Pregnancies'].apply(lambda x: math.log(x + 1))"
      ],
      "execution_count": 22,
      "outputs": []
    },
    {
      "cell_type": "code",
      "metadata": {
        "colab": {
          "base_uri": "https://localhost:8080/",
          "height": 386
        },
        "id": "AeBnoQdlj5EZ",
        "outputId": "8bddf696-12a3-4251-f76e-77abb41700de"
      },
      "source": [
        "sns.displot(df, x='Pregnancies', hue='Outcome')"
      ],
      "execution_count": 23,
      "outputs": [
        {
          "output_type": "execute_result",
          "data": {
            "text/plain": [
              "<seaborn.axisgrid.FacetGrid at 0x7f46e8875b50>"
            ]
          },
          "metadata": {},
          "execution_count": 23
        },
        {
          "output_type": "display_data",
          "data": {
            "image/png": "[encoded data removed]",
            "text/plain": [
              "<Figure size 413.25x360 with 1 Axes>"
            ]
          },
          "metadata": {
            "needs_background": "light"
          }
        }
      ]
    },
    {
      "cell_type": "markdown",
      "metadata": {
        "id": "cmcibHgrciMQ"
      },
      "source": [
        "###Glucose:"
      ]
    },
    {
      "cell_type": "code",
      "metadata": {
        "colab": {
          "base_uri": "https://localhost:8080/",
          "height": 386
        },
        "id": "R52e00ucWhUM",
        "outputId": "80022e74-d1e5-4f99-c4aa-0efc1f098379"
      },
      "source": [
        "sns.catplot(kind=\"box\", x=\"Outcome\", y=\"Glucose\", data=df)"
      ],
      "execution_count": 24,
      "outputs": [
        {
          "output_type": "execute_result",
          "data": {
            "text/plain": [
              "<seaborn.axisgrid.FacetGrid at 0x7f46e87687d0>"
            ]
          },
          "metadata": {},
          "execution_count": 24
        },
        {
          "output_type": "display_data",
          "data": {
            "image/png": "[encoded data removed]",
            "text/plain": [
              "<Figure size 360x360 with 1 Axes>"
            ]
          },
          "metadata": {
            "needs_background": "light"
          }
        }
      ]
    },
    {
      "cell_type": "code",
      "metadata": {
        "id": "g5KZPyniWVpt"
      },
      "source": [
        "ub0, lb0, ub1, lb1 = upperlowerbounds(df, 'Glucose')"
      ],
      "execution_count": 25,
      "outputs": []
    },
    {
      "cell_type": "code",
      "metadata": {
        "colab": {
          "base_uri": "https://localhost:8080/"
        },
        "id": "iO-haPQH9Fh4",
        "outputId": "4f19a08a-cccf-473e-d3da-e1972efce494"
      },
      "source": [
        "u = df['Glucose'].loc[(df['Outcome'] == 0) & (df['Glucose'] > ub0)].count()\n",
        "l = df['Glucose'].loc[(df['Outcome'] == 0) & (df['Glucose'] < lb0)].count()\n",
        "print(u+l)"
      ],
      "execution_count": 26,
      "outputs": [
        {
          "output_type": "stream",
          "name": "stdout",
          "text": [
            "11\n"
          ]
        }
      ]
    },
    {
      "cell_type": "code",
      "metadata": {
        "id": "cV2OvXPxWqm2"
      },
      "source": [
        "removeOutliers(df, 'Glucose')"
      ],
      "execution_count": 27,
      "outputs": []
    },
    {
      "cell_type": "code",
      "metadata": {
        "colab": {
          "base_uri": "https://localhost:8080/",
          "height": 386
        },
        "id": "JgcR4RFN8YhV",
        "outputId": "950f40d2-a0d5-426e-f0f8-fa5cd4b3381c"
      },
      "source": [
        "sns.catplot(kind=\"box\", x=\"Outcome\", y=\"Glucose\", data=df)"
      ],
      "execution_count": 28,
      "outputs": [
        {
          "output_type": "execute_result",
          "data": {
            "text/plain": [
              "<seaborn.axisgrid.FacetGrid at 0x7f46e9078050>"
            ]
          },
          "metadata": {},
          "execution_count": 28
        },
        {
          "output_type": "display_data",
          "data": {
            "image/png": "[encoded data removed]",
            "text/plain": [
              "<Figure size 360x360 with 1 Axes>"
            ]
          },
          "metadata": {
            "needs_background": "light"
          }
        }
      ]
    },
    {
      "cell_type": "code",
      "metadata": {
        "colab": {
          "base_uri": "https://localhost:8080/",
          "height": 386
        },
        "id": "rh04ycA6-OFq",
        "outputId": "47304e5a-29f0-4e0a-a5a5-18065917c4e6"
      },
      "source": [
        "sns.displot(df, x='Glucose', hue='Outcome')"
      ],
      "execution_count": 29,
      "outputs": [
        {
          "output_type": "execute_result",
          "data": {
            "text/plain": [
              "<seaborn.axisgrid.FacetGrid at 0x7f46e90bb390>"
            ]
          },
          "metadata": {},
          "execution_count": 29
        },
        {
          "output_type": "display_data",
          "data": {
            "image/png": "[encoded data removed]",
            "text/plain": [
              "<Figure size 413.25x360 with 1 Axes>"
            ]
          },
          "metadata": {
            "needs_background": "light"
          }
        }
      ]
    },
    {
      "cell_type": "markdown",
      "metadata": {
        "id": "1sc67UTUckvc"
      },
      "source": [
        "###BloodPressure:"
      ]
    },
    {
      "cell_type": "code",
      "metadata": {
        "colab": {
          "base_uri": "https://localhost:8080/",
          "height": 386
        },
        "id": "hllV-_nTW46X",
        "outputId": "a3666a00-467d-4117-8759-157e8a92759b"
      },
      "source": [
        "sns.catplot(kind=\"box\", x=\"Outcome\", y=\"BloodPressure\", data=df)"
      ],
      "execution_count": 30,
      "outputs": [
        {
          "output_type": "execute_result",
          "data": {
            "text/plain": [
              "<seaborn.axisgrid.FacetGrid at 0x7f46e8f88ad0>"
            ]
          },
          "metadata": {},
          "execution_count": 30
        },
        {
          "output_type": "display_data",
          "data": {
            "image/png": "[encoded data removed]",
            "text/plain": [
              "<Figure size 360x360 with 1 Axes>"
            ]
          },
          "metadata": {
            "needs_background": "light"
          }
        }
      ]
    },
    {
      "cell_type": "code",
      "metadata": {
        "id": "RbvXeNWMW0xb"
      },
      "source": [
        "ub0, lb0, ub1, lb1 = upperlowerbounds(df, 'BloodPressure')"
      ],
      "execution_count": 31,
      "outputs": []
    },
    {
      "cell_type": "code",
      "metadata": {
        "colab": {
          "base_uri": "https://localhost:8080/"
        },
        "id": "0Bi6s33fUc2t",
        "outputId": "290a6f26-a900-4e20-eb93-350d525a3f49"
      },
      "source": [
        "u = df['BloodPressure'].loc[(df['Outcome'] == 0) & (df['BloodPressure'] > ub0)].count()\n",
        "l = df['BloodPressure'].loc[(df['Outcome'] == 0) & (df['BloodPressure'] < lb0)].count()\n",
        "print(u+l)"
      ],
      "execution_count": 32,
      "outputs": [
        {
          "output_type": "stream",
          "name": "stdout",
          "text": [
            "6\n"
          ]
        }
      ]
    },
    {
      "cell_type": "code",
      "metadata": {
        "colab": {
          "base_uri": "https://localhost:8080/"
        },
        "id": "EVS_iPloU3n9",
        "outputId": "041322b1-6537-4dc2-a7c2-65bc4b5e11c0"
      },
      "source": [
        "u = df['BloodPressure'].loc[(df['Outcome'] == 1) & (df['BloodPressure'] > ub1)].count()\n",
        "l = df['BloodPressure'].loc[(df['Outcome'] == 1) & (df['BloodPressure'] < lb1)].count()\n",
        "print(u+l)"
      ],
      "execution_count": 33,
      "outputs": [
        {
          "output_type": "stream",
          "name": "stdout",
          "text": [
            "5\n"
          ]
        }
      ]
    },
    {
      "cell_type": "code",
      "metadata": {
        "id": "Nokpk51-WLdl"
      },
      "source": [
        "removeOutliers(df, 'BloodPressure')"
      ],
      "execution_count": 34,
      "outputs": []
    },
    {
      "cell_type": "code",
      "metadata": {
        "colab": {
          "base_uri": "https://localhost:8080/",
          "height": 386
        },
        "id": "--KlddS2WOwU",
        "outputId": "e143fdab-933c-4be8-c7ae-4d8e2044a31e"
      },
      "source": [
        "sns.catplot(kind=\"box\", x=\"Outcome\", y=\"BloodPressure\", data=df)"
      ],
      "execution_count": 35,
      "outputs": [
        {
          "output_type": "execute_result",
          "data": {
            "text/plain": [
              "<seaborn.axisgrid.FacetGrid at 0x7f46e92b14d0>"
            ]
          },
          "metadata": {},
          "execution_count": 35
        },
        {
          "output_type": "display_data",
          "data": {
            "image/png": "[encoded data removed]",
            "text/plain": [
              "<Figure size 360x360 with 1 Axes>"
            ]
          },
          "metadata": {
            "needs_background": "light"
          }
        }
      ]
    },
    {
      "cell_type": "code",
      "metadata": {
        "colab": {
          "base_uri": "https://localhost:8080/",
          "height": 386
        },
        "id": "Pm8o8n5CWPH1",
        "outputId": "2e69fe9e-23bc-43ff-9c4d-8487c0ecff1d"
      },
      "source": [
        "sns.displot(df, x='BloodPressure', hue='Outcome')"
      ],
      "execution_count": 36,
      "outputs": [
        {
          "output_type": "execute_result",
          "data": {
            "text/plain": [
              "<seaborn.axisgrid.FacetGrid at 0x7f46e9106250>"
            ]
          },
          "metadata": {},
          "execution_count": 36
        },
        {
          "output_type": "display_data",
          "data": {
            "image/png": "[encoded data removed]",
            "text/plain": [
              "<Figure size 413.25x360 with 1 Axes>"
            ]
          },
          "metadata": {
            "needs_background": "light"
          }
        }
      ]
    },
    {
      "cell_type": "markdown",
      "metadata": {
        "id": "MLxKPgBOcoFD"
      },
      "source": [
        "###BMI:"
      ]
    },
    {
      "cell_type": "code",
      "metadata": {
        "colab": {
          "base_uri": "https://localhost:8080/",
          "height": 386
        },
        "id": "hUQpqCefXelA",
        "outputId": "ab196483-3c10-41d5-9169-c5937edf60c4"
      },
      "source": [
        "sns.catplot(kind=\"box\", x=\"Outcome\", y=\"BMI\", data=df)"
      ],
      "execution_count": 37,
      "outputs": [
        {
          "output_type": "execute_result",
          "data": {
            "text/plain": [
              "<seaborn.axisgrid.FacetGrid at 0x7f46e9230590>"
            ]
          },
          "metadata": {},
          "execution_count": 37
        },
        {
          "output_type": "display_data",
          "data": {
            "image/png": "[encoded data removed]",
            "text/plain": [
              "<Figure size 360x360 with 1 Axes>"
            ]
          },
          "metadata": {
            "needs_background": "light"
          }
        }
      ]
    },
    {
      "cell_type": "code",
      "metadata": {
        "id": "XK70J-pxXjnX"
      },
      "source": [
        "ub0, lb0, ub1, lb1 = upperlowerbounds(df, 'BMI')"
      ],
      "execution_count": 38,
      "outputs": []
    },
    {
      "cell_type": "code",
      "metadata": {
        "colab": {
          "base_uri": "https://localhost:8080/"
        },
        "id": "oXwN12szcgCO",
        "outputId": "ac712a26-0c6b-4225-867e-3b901fc2727e"
      },
      "source": [
        "u = df['BMI'].loc[(df['Outcome'] == 0) & (df['BMI'] > ub0)].count()\n",
        "l = df['BMI'].loc[(df['Outcome'] == 0) & (df['BMI'] < lb0)].count()\n",
        "print(u+l)"
      ],
      "execution_count": 39,
      "outputs": [
        {
          "output_type": "stream",
          "name": "stdout",
          "text": [
            "2\n"
          ]
        }
      ]
    },
    {
      "cell_type": "code",
      "metadata": {
        "colab": {
          "base_uri": "https://localhost:8080/"
        },
        "id": "JFV1ozH_cgbu",
        "outputId": "b3be0648-e8a2-428b-efec-23bd6f7e5a4a"
      },
      "source": [
        "u = df['BMI'].loc[(df['Outcome'] == 1) & (df['BMI'] > ub1)].count()\n",
        "l = df['BMI'].loc[(df['Outcome'] == 1) & (df['BMI'] < lb1)].count()\n",
        "print(u+l)"
      ],
      "execution_count": 40,
      "outputs": [
        {
          "output_type": "stream",
          "name": "stdout",
          "text": [
            "7\n"
          ]
        }
      ]
    },
    {
      "cell_type": "code",
      "metadata": {
        "id": "DPmaFKPSc_cY"
      },
      "source": [
        "removeOutliers(df, 'BMI')"
      ],
      "execution_count": 41,
      "outputs": []
    },
    {
      "cell_type": "code",
      "metadata": {
        "colab": {
          "base_uri": "https://localhost:8080/",
          "height": 386
        },
        "id": "hbyYITEEcAbV",
        "outputId": "67a3a3f2-6e7d-4f67-e7f4-8e87d7a76a65"
      },
      "source": [
        "sns.catplot(kind=\"box\", x=\"Outcome\", y=\"BMI\", data=df)"
      ],
      "execution_count": 42,
      "outputs": [
        {
          "output_type": "execute_result",
          "data": {
            "text/plain": [
              "<seaborn.axisgrid.FacetGrid at 0x7f46e91b0c90>"
            ]
          },
          "metadata": {},
          "execution_count": 42
        },
        {
          "output_type": "display_data",
          "data": {
            "image/png": "[encoded data removed]",
            "text/plain": [
              "<Figure size 360x360 with 1 Axes>"
            ]
          },
          "metadata": {
            "needs_background": "light"
          }
        }
      ]
    },
    {
      "cell_type": "code",
      "metadata": {
        "colab": {
          "base_uri": "https://localhost:8080/",
          "height": 386
        },
        "id": "jixvMe9dcIJq",
        "outputId": "d17a3634-5c83-45c5-fb9e-c6fd2224f84c"
      },
      "source": [
        "sns.displot(df, x='BMI', hue='Outcome')"
      ],
      "execution_count": 43,
      "outputs": [
        {
          "output_type": "execute_result",
          "data": {
            "text/plain": [
              "<seaborn.axisgrid.FacetGrid at 0x7f46e868e910>"
            ]
          },
          "metadata": {},
          "execution_count": 43
        },
        {
          "output_type": "display_data",
          "data": {
            "image/png": "[encoded data removed]",
            "text/plain": [
              "<Figure size 413.25x360 with 1 Axes>"
            ]
          },
          "metadata": {
            "needs_background": "light"
          }
        }
      ]
    },
    {
      "cell_type": "markdown",
      "metadata": {
        "id": "-C0Y4xs5crPn"
      },
      "source": [
        "###DiabetesPedigreeFunction:"
      ]
    },
    {
      "cell_type": "code",
      "metadata": {
        "colab": {
          "base_uri": "https://localhost:8080/",
          "height": 386
        },
        "id": "t-4O9yuMX5Gm",
        "outputId": "8b306faa-0855-4c15-d31c-9bfc40e5b4aa"
      },
      "source": [
        "sns.catplot(kind=\"box\", x=\"Outcome\", y=\"DiabetesPedigreeFunction\", data=df)"
      ],
      "execution_count": 44,
      "outputs": [
        {
          "output_type": "execute_result",
          "data": {
            "text/plain": [
              "<seaborn.axisgrid.FacetGrid at 0x7f46e8564dd0>"
            ]
          },
          "metadata": {},
          "execution_count": 44
        },
        {
          "output_type": "display_data",
          "data": {
            "image/png": "[encoded data removed]",
            "text/plain": [
              "<Figure size 360x360 with 1 Axes>"
            ]
          },
          "metadata": {
            "needs_background": "light"
          }
        }
      ]
    },
    {
      "cell_type": "code",
      "metadata": {
        "id": "Hlz2XhkOX1iU"
      },
      "source": [
        "ub0, lb0, ub1, lb1 = upperlowerbounds(df, 'DiabetesPedigreeFunction')"
      ],
      "execution_count": 45,
      "outputs": []
    },
    {
      "cell_type": "code",
      "metadata": {
        "colab": {
          "base_uri": "https://localhost:8080/"
        },
        "id": "IhNvFa8unib_",
        "outputId": "52022299-be62-4a3f-dbed-55ec4b54c110"
      },
      "source": [
        "u = df['DiabetesPedigreeFunction'].loc[(df['Outcome'] == 0) & (df['DiabetesPedigreeFunction'] > ub0)].count()\n",
        "l = df['DiabetesPedigreeFunction'].loc[(df['Outcome'] == 0) & (df['DiabetesPedigreeFunction'] < lb0)].count()\n",
        "print(u+l)"
      ],
      "execution_count": 46,
      "outputs": [
        {
          "output_type": "stream",
          "name": "stdout",
          "text": [
            "16\n"
          ]
        }
      ]
    },
    {
      "cell_type": "code",
      "metadata": {
        "colab": {
          "base_uri": "https://localhost:8080/"
        },
        "id": "-KYcn1Jtn-6_",
        "outputId": "bff000f1-3f75-4a20-d961-62b080bcd7be"
      },
      "source": [
        "u = df['DiabetesPedigreeFunction'].loc[(df['Outcome'] == 1) & (df['DiabetesPedigreeFunction'] > ub1)].count()\n",
        "l = df['DiabetesPedigreeFunction'].loc[(df['Outcome'] == 1) & (df['DiabetesPedigreeFunction'] < lb1)].count()\n",
        "print(u+l)"
      ],
      "execution_count": 47,
      "outputs": [
        {
          "output_type": "stream",
          "name": "stdout",
          "text": [
            "2\n"
          ]
        }
      ]
    },
    {
      "cell_type": "code",
      "metadata": {
        "id": "4_CC9CAcoA-M"
      },
      "source": [
        "removeOutliers(df, 'DiabetesPedigreeFunction')"
      ],
      "execution_count": 48,
      "outputs": []
    },
    {
      "cell_type": "code",
      "metadata": {
        "colab": {
          "base_uri": "https://localhost:8080/",
          "height": 386
        },
        "id": "7AF7JGBcoJom",
        "outputId": "26ff2366-52f7-4da9-94e5-4361b9d616d6"
      },
      "source": [
        "sns.catplot(kind=\"box\", x=\"Outcome\", y=\"DiabetesPedigreeFunction\", data=df)"
      ],
      "execution_count": 49,
      "outputs": [
        {
          "output_type": "execute_result",
          "data": {
            "text/plain": [
              "<seaborn.axisgrid.FacetGrid at 0x7f46e86d3550>"
            ]
          },
          "metadata": {},
          "execution_count": 49
        },
        {
          "output_type": "display_data",
          "data": {
            "image/png": "[encoded data removed]",
            "text/plain": [
              "<Figure size 360x360 with 1 Axes>"
            ]
          },
          "metadata": {
            "needs_background": "light"
          }
        }
      ]
    },
    {
      "cell_type": "code",
      "metadata": {
        "colab": {
          "base_uri": "https://localhost:8080/",
          "height": 386
        },
        "id": "GwBoqk0DoMsX",
        "outputId": "daa5365c-631b-4f3b-920e-3554ef360f7d"
      },
      "source": [
        "sns.displot(df, x='DiabetesPedigreeFunction', hue='Outcome')"
      ],
      "execution_count": 50,
      "outputs": [
        {
          "output_type": "execute_result",
          "data": {
            "text/plain": [
              "<seaborn.axisgrid.FacetGrid at 0x7f46e8b2a910>"
            ]
          },
          "metadata": {},
          "execution_count": 50
        },
        {
          "output_type": "display_data",
          "data": {
            "image/png": "[encoded data removed]",
            "text/plain": [
              "<Figure size 413.25x360 with 1 Axes>"
            ]
          },
          "metadata": {
            "needs_background": "light"
          }
        }
      ]
    },
    {
      "cell_type": "code",
      "metadata": {
        "id": "aG769efloSFn"
      },
      "source": [
        "df['DiabetesPedigreeFunction'] = df['DiabetesPedigreeFunction'].apply(lambda x: math.log(x + 1))"
      ],
      "execution_count": 51,
      "outputs": []
    },
    {
      "cell_type": "code",
      "metadata": {
        "colab": {
          "base_uri": "https://localhost:8080/",
          "height": 386
        },
        "id": "5ClouRkQoihe",
        "outputId": "95df879d-681b-4909-ac0d-1aa891f7400a"
      },
      "source": [
        "sns.displot(df, x='DiabetesPedigreeFunction', hue='Outcome')"
      ],
      "execution_count": 52,
      "outputs": [
        {
          "output_type": "execute_result",
          "data": {
            "text/plain": [
              "<seaborn.axisgrid.FacetGrid at 0x7f46e921ccd0>"
            ]
          },
          "metadata": {},
          "execution_count": 52
        },
        {
          "output_type": "display_data",
          "data": {
            "image/png": "[encoded data removed]",
            "text/plain": [
              "<Figure size 413.25x360 with 1 Axes>"
            ]
          },
          "metadata": {
            "needs_background": "light"
          }
        }
      ]
    },
    {
      "cell_type": "markdown",
      "metadata": {
        "id": "tDJ_uilmc2TA"
      },
      "source": [
        "###Age:"
      ]
    },
    {
      "cell_type": "code",
      "metadata": {
        "colab": {
          "base_uri": "https://localhost:8080/",
          "height": 386
        },
        "id": "Po2PLSiMYQNN",
        "outputId": "e00560ae-c002-47da-a138-8efddbe2de9c"
      },
      "source": [
        "sns.catplot(kind=\"box\", x=\"Outcome\", y=\"Age\", data=df)"
      ],
      "execution_count": 53,
      "outputs": [
        {
          "output_type": "execute_result",
          "data": {
            "text/plain": [
              "<seaborn.axisgrid.FacetGrid at 0x7f46e8c2acd0>"
            ]
          },
          "metadata": {},
          "execution_count": 53
        },
        {
          "output_type": "display_data",
          "data": {
            "image/png": "[encoded data removed]",
            "text/plain": [
              "<Figure size 360x360 with 1 Axes>"
            ]
          },
          "metadata": {
            "needs_background": "light"
          }
        }
      ]
    },
    {
      "cell_type": "code",
      "metadata": {
        "id": "UNB0hIq2o__a"
      },
      "source": [
        "ub0, lb0, ub1, lb1 = upperlowerbounds(df, 'Age')"
      ],
      "execution_count": 54,
      "outputs": []
    },
    {
      "cell_type": "code",
      "metadata": {
        "colab": {
          "base_uri": "https://localhost:8080/"
        },
        "id": "Ztzzmkv2pECt",
        "outputId": "20f7730b-28dc-4f15-f528-945fb54d0743"
      },
      "source": [
        "u = df['Age'].loc[(df['Outcome'] == 0) & (df['Age'] > ub0)].count()\n",
        "l = df['Age'].loc[(df['Outcome'] == 0) & (df['Age'] < lb0)].count()\n",
        "print(u+l)"
      ],
      "execution_count": 55,
      "outputs": [
        {
          "output_type": "stream",
          "name": "stdout",
          "text": [
            "30\n"
          ]
        }
      ]
    },
    {
      "cell_type": "code",
      "metadata": {
        "colab": {
          "base_uri": "https://localhost:8080/"
        },
        "id": "RVfi1M2Npg0e",
        "outputId": "382061a8-9fd7-413d-f4d1-9e5b89c094f8"
      },
      "source": [
        "u = df['Age'].loc[(df['Outcome'] == 1) & (df['Age'] > ub1)].count()\n",
        "l = df['Age'].loc[(df['Outcome'] == 1) & (df['Age'] < lb1)].count()\n",
        "print(u+l)"
      ],
      "execution_count": 56,
      "outputs": [
        {
          "output_type": "stream",
          "name": "stdout",
          "text": [
            "1\n"
          ]
        }
      ]
    },
    {
      "cell_type": "code",
      "metadata": {
        "id": "Hpuez6oApiyZ"
      },
      "source": [
        "removeOutliers(df, 'Age')"
      ],
      "execution_count": 57,
      "outputs": []
    },
    {
      "cell_type": "code",
      "metadata": {
        "colab": {
          "base_uri": "https://localhost:8080/",
          "height": 386
        },
        "id": "8IFn1zhnpq14",
        "outputId": "940a01e2-0db7-44ad-dc8c-855d4fbd622d"
      },
      "source": [
        "sns.catplot(kind=\"box\", x=\"Outcome\", y=\"Age\", data=df)"
      ],
      "execution_count": 58,
      "outputs": [
        {
          "output_type": "execute_result",
          "data": {
            "text/plain": [
              "<seaborn.axisgrid.FacetGrid at 0x7f46e8ba56d0>"
            ]
          },
          "metadata": {},
          "execution_count": 58
        },
        {
          "output_type": "display_data",
          "data": {
            "image/png": "[encoded data removed]",
            "text/plain": [
              "<Figure size 360x360 with 1 Axes>"
            ]
          },
          "metadata": {
            "needs_background": "light"
          }
        }
      ]
    },
    {
      "cell_type": "code",
      "metadata": {
        "colab": {
          "base_uri": "https://localhost:8080/",
          "height": 386
        },
        "id": "v5EHZETHpuKg",
        "outputId": "67e8c5f6-153a-458d-aa3d-60cfaa234212"
      },
      "source": [
        "sns.displot(df, x='Age', hue='Outcome')"
      ],
      "execution_count": 59,
      "outputs": [
        {
          "output_type": "execute_result",
          "data": {
            "text/plain": [
              "<seaborn.axisgrid.FacetGrid at 0x7f46e970fdd0>"
            ]
          },
          "metadata": {},
          "execution_count": 59
        },
        {
          "output_type": "display_data",
          "data": {
            "image/png": "[encoded data removed]",
            "text/plain": [
              "<Figure size 413.25x360 with 1 Axes>"
            ]
          },
          "metadata": {
            "needs_background": "light"
          }
        }
      ]
    },
    {
      "cell_type": "code",
      "metadata": {
        "id": "3oinI0kApvr6"
      },
      "source": [
        "df[\"Age\"] = df['Age'].apply(lambda x: math.log(x))"
      ],
      "execution_count": 60,
      "outputs": []
    },
    {
      "cell_type": "code",
      "metadata": {
        "colab": {
          "base_uri": "https://localhost:8080/",
          "height": 386
        },
        "id": "zGae6yqsp-vG",
        "outputId": "3d926bef-7636-4a34-9bd4-3b80db69f142"
      },
      "source": [
        "sns.displot(df, x='Age', hue='Outcome')"
      ],
      "execution_count": 61,
      "outputs": [
        {
          "output_type": "execute_result",
          "data": {
            "text/plain": [
              "<seaborn.axisgrid.FacetGrid at 0x7f46e8e56950>"
            ]
          },
          "metadata": {},
          "execution_count": 61
        },
        {
          "output_type": "display_data",
          "data": {
            "image/png": "[encoded data removed]",
            "text/plain": [
              "<Figure size 413.25x360 with 1 Axes>"
            ]
          },
          "metadata": {
            "needs_background": "light"
          }
        }
      ]
    },
    {
      "cell_type": "markdown",
      "metadata": {
        "id": "XMYkIztuenVN"
      },
      "source": [
        "###Final data:"
      ]
    },
    {
      "cell_type": "code",
      "metadata": {
        "colab": {
          "base_uri": "https://localhost:8080/",
          "height": 386
        },
        "id": "_KnFWihle5h2",
        "outputId": "97684266-82b3-41d1-b6de-24888d8c5d6e"
      },
      "source": [
        "sns.displot(df['Outcome'])"
      ],
      "execution_count": 62,
      "outputs": [
        {
          "output_type": "execute_result",
          "data": {
            "text/plain": [
              "<seaborn.axisgrid.FacetGrid at 0x7f46e8d9c550>"
            ]
          },
          "metadata": {},
          "execution_count": 62
        },
        {
          "output_type": "display_data",
          "data": {
            "image/png": "[encoded data removed]",
            "text/plain": [
              "<Figure size 360x360 with 1 Axes>"
            ]
          },
          "metadata": {
            "needs_background": "light"
          }
        }
      ]
    },
    {
      "cell_type": "code",
      "metadata": {
        "colab": {
          "base_uri": "https://localhost:8080/",
          "height": 206
        },
        "id": "EplkphzVgM_t",
        "outputId": "9430c5c9-d931-4c71-b244-b2b9c0c393a0"
      },
      "source": [
        "df.head()"
      ],
      "execution_count": 63,
      "outputs": [
        {
          "output_type": "execute_result",
          "data": {
            "text/html": [
              "<div>\n",
              "<style scoped>\n",
              "    .dataframe tbody tr th:only-of-type {\n",
              "        vertical-align: middle;\n",
              "    }\n",
              "\n",
              "    .dataframe tbody tr th {\n",
              "        vertical-align: top;\n",
              "    }\n",
              "\n",
              "    .dataframe thead th {\n",
              "        text-align: right;\n",
              "    }\n",
              "</style>\n",
              "<table border=\"1\" class=\"dataframe\">\n",
              "  <thead>\n",
              "    <tr style=\"text-align: right;\">\n",
              "      <th></th>\n",
              "      <th>Pregnancies</th>\n",
              "      <th>Glucose</th>\n",
              "      <th>BloodPressure</th>\n",
              "      <th>BMI</th>\n",
              "      <th>DiabetesPedigreeFunction</th>\n",
              "      <th>Age</th>\n",
              "      <th>Outcome</th>\n",
              "    </tr>\n",
              "  </thead>\n",
              "  <tbody>\n",
              "    <tr>\n",
              "      <th>0</th>\n",
              "      <td>1.945910</td>\n",
              "      <td>148</td>\n",
              "      <td>72</td>\n",
              "      <td>33.6</td>\n",
              "      <td>0.486738</td>\n",
              "      <td>3.912023</td>\n",
              "      <td>1</td>\n",
              "    </tr>\n",
              "    <tr>\n",
              "      <th>1</th>\n",
              "      <td>0.693147</td>\n",
              "      <td>85</td>\n",
              "      <td>66</td>\n",
              "      <td>26.6</td>\n",
              "      <td>0.300845</td>\n",
              "      <td>3.433987</td>\n",
              "      <td>0</td>\n",
              "    </tr>\n",
              "    <tr>\n",
              "      <th>2</th>\n",
              "      <td>2.197225</td>\n",
              "      <td>183</td>\n",
              "      <td>64</td>\n",
              "      <td>23.3</td>\n",
              "      <td>0.514021</td>\n",
              "      <td>3.465736</td>\n",
              "      <td>1</td>\n",
              "    </tr>\n",
              "    <tr>\n",
              "      <th>3</th>\n",
              "      <td>0.693147</td>\n",
              "      <td>89</td>\n",
              "      <td>66</td>\n",
              "      <td>28.1</td>\n",
              "      <td>0.154436</td>\n",
              "      <td>3.044522</td>\n",
              "      <td>0</td>\n",
              "    </tr>\n",
              "    <tr>\n",
              "      <th>5</th>\n",
              "      <td>1.791759</td>\n",
              "      <td>116</td>\n",
              "      <td>74</td>\n",
              "      <td>25.6</td>\n",
              "      <td>0.183155</td>\n",
              "      <td>3.401197</td>\n",
              "      <td>0</td>\n",
              "    </tr>\n",
              "  </tbody>\n",
              "</table>\n",
              "</div>"
            ],
            "text/plain": [
              "   Pregnancies  Glucose  ...       Age  Outcome\n",
              "0     1.945910      148  ...  3.912023        1\n",
              "1     0.693147       85  ...  3.433987        0\n",
              "2     2.197225      183  ...  3.465736        1\n",
              "3     0.693147       89  ...  3.044522        0\n",
              "5     1.791759      116  ...  3.401197        0\n",
              "\n",
              "[5 rows x 7 columns]"
            ]
          },
          "metadata": {},
          "execution_count": 63
        }
      ]
    },
    {
      "cell_type": "code",
      "metadata": {
        "colab": {
          "base_uri": "https://localhost:8080/",
          "height": 1000
        },
        "id": "TA7FiCPdl6Yo",
        "outputId": "3176e2e4-9211-422b-f4fd-8fae94bf6c7e"
      },
      "source": [
        "cont_vars = list(df.columns)[:6]\n",
        "for col in cont_vars:\n",
        "  sns.catplot(kind=\"box\", x=\"Outcome\", y=col, data=df)"
      ],
      "execution_count": 64,
      "outputs": [
        {
          "output_type": "display_data",
          "data": {
            "image/png": "[encoded data removed]",
            "text/plain": [
              "<Figure size 360x360 with 1 Axes>"
            ]
          },
          "metadata": {
            "needs_background": "light"
          }
        },
        {
          "output_type": "display_data",
          "data": {
            "image/png": "[encoded data removed]",
            "text/plain": [
              "<Figure size 360x360 with 1 Axes>"
            ]
          },
          "metadata": {
            "needs_background": "light"
          }
        },
        {
          "output_type": "display_data",
          "data": {
            "image/png": "[encoded data removed]",
            "text/plain": [
              "<Figure size 360x360 with 1 Axes>"
            ]
          },
          "metadata": {
            "needs_background": "light"
          }
        },
        {
          "output_type": "display_data",
          "data": {
            "image/png": "[encoded data removed]",
            "text/plain": [
              "<Figure size 360x360 with 1 Axes>"
            ]
          },
          "metadata": {
            "needs_background": "light"
          }
        },
        {
          "output_type": "display_data",
          "data": {
            "image/png": "[encoded data removed]",
            "text/plain": [
              "<Figure size 360x360 with 1 Axes>"
            ]
          },
          "metadata": {
            "needs_background": "light"
          }
        },
        {
          "output_type": "display_data",
          "data": {
            "image/png": "[encoded data removed]",
            "text/plain": [
              "<Figure size 360x360 with 1 Axes>"
            ]
          },
          "metadata": {
            "needs_background": "light"
          }
        }
      ]
    },
    {
      "cell_type": "code",
      "metadata": {
        "colab": {
          "base_uri": "https://localhost:8080/",
          "height": 1000
        },
        "id": "px0Htu0jm40G",
        "outputId": "a5b82ed9-43e7-40aa-e6c1-d32f1a24340a"
      },
      "source": [
        "cont_vars = list(df.columns)[:6]\n",
        "for col in cont_vars:\n",
        "  sns.displot(df, x=col, hue='Outcome')"
      ],
      "execution_count": 65,
      "outputs": [
        {
          "output_type": "display_data",
          "data": {
            "image/png": "[encoded data removed]",
            "text/plain": [
              "<Figure size 413.25x360 with 1 Axes>"
            ]
          },
          "metadata": {
            "needs_background": "light"
          }
        },
        {
          "output_type": "display_data",
          "data": {
            "image/png": "[encoded data removed]",
            "text/plain": [
              "<Figure size 413.25x360 with 1 Axes>"
            ]
          },
          "metadata": {
            "needs_background": "light"
          }
        },
        {
          "output_type": "display_data",
          "data": {
            "image/png": "[encoded data removed]",
            "text/plain": [
              "<Figure size 413.25x360 with 1 Axes>"
            ]
          },
          "metadata": {
            "needs_background": "light"
          }
        },
        {
          "output_type": "display_data",
          "data": {
            "image/png": "[encoded data removed]",
            "text/plain": [
              "<Figure size 413.25x360 with 1 Axes>"
            ]
          },
          "metadata": {
            "needs_background": "light"
          }
        },
        {
          "output_type": "display_data",
          "data": {
            "image/png": "[encoded data removed]",
            "text/plain": [
              "<Figure size 413.25x360 with 1 Axes>"
            ]
          },
          "metadata": {
            "needs_background": "light"
          }
        },
        {
          "output_type": "display_data",
          "data": {
            "image/png": "[encoded data removed]",
            "text/plain": [
              "<Figure size 413.25x360 with 1 Axes>"
            ]
          },
          "metadata": {
            "needs_background": "light"
          }
        }
      ]
    },
    {
      "cell_type": "markdown",
      "metadata": {
        "id": "_vpDaYYnx7TK"
      },
      "source": [
        "###1.3.8 Split training and testing dataset and minmax normalization:"
      ]
    },
    {
      "cell_type": "markdown",
      "metadata": {
        "id": "fSWugFnwh-5u"
      },
      "source": [
        "Normalize the dataset:"
      ]
    },
    {
      "cell_type": "code",
      "metadata": {
        "id": "ATRtbimZh-V3"
      },
      "source": [
        "def normalize(x):\n",
        "  max = np.amax(x, axis=0)\n",
        "  min = np.amin(x, axis=0)\n",
        "  for row in x:\n",
        "    for i in range(len(row)):\n",
        "      row[i] = (row[i] - min[i]) / (max[i] - min[i])\n",
        "  return x"
      ],
      "execution_count": 66,
      "outputs": []
    },
    {
      "cell_type": "markdown",
      "metadata": {
        "id": "LV4C5E4Q22h7"
      },
      "source": [
        "Split into  training and testing"
      ]
    },
    {
      "cell_type": "code",
      "metadata": {
        "id": "kuij7g_wgFfZ"
      },
      "source": [
        "train = df.sample(frac =0.7, replace = False)\n",
        "test = df.drop(train.index)\n",
        "\n",
        "train = normalize(train.to_numpy())        #convert dataframe to numpy array\n",
        "test = normalize(test.to_numpy())\n",
        "\n",
        "x_train = np.delete(train, 6, 1)     #Remove outcome column\n",
        "x_test = np.delete(test, 6, 1)\n",
        "\n",
        "y_train = train[:,6]              #Outcome column\n",
        "y_test = test[:,6]"
      ],
      "execution_count": 67,
      "outputs": []
    },
    {
      "cell_type": "markdown",
      "metadata": {
        "id": "hRhxIJOkrEcf"
      },
      "source": [
        "Add ones in the matrix for constant term:"
      ]
    },
    {
      "cell_type": "code",
      "metadata": {
        "id": "VykZEZzDrCFP"
      },
      "source": [
        "to_insert = np.ones(len(x_train))           #We insert 1 at the beginning for coefficient term\n",
        "x_trainG = np.insert(x_train, 0, to_insert, axis=1)\n",
        "\n",
        "to_insert = np.ones(len(x_test))           #We insert 1 at the beginning for coefficient term\n",
        "x_testG = np.insert(x_test, 0, to_insert, axis=1)"
      ],
      "execution_count": 68,
      "outputs": []
    },
    {
      "cell_type": "markdown",
      "metadata": {
        "id": "-h1vUa9eszKC"
      },
      "source": [
        "Test the dataset:"
      ]
    },
    {
      "cell_type": "code",
      "metadata": {
        "id": "iUbLJGH0s1Zl"
      },
      "source": [
        "def test(x, y, w):\n",
        "  success = 0\n",
        "  for i in range(len(x)):\n",
        "    if(round(sigmoidFunction(w, x[i])) == int(y[i])):\n",
        "      success += 1\n",
        "  accuracy = 100.0 * success/len(x)\n",
        "  miss = len(x) - success\n",
        "  print('Hit count: ' + str(success))\n",
        "  print('Miss count:' + str(miss))\n",
        "  print('Accuracy: '+ str(accuracy) + '%' )"
      ],
      "execution_count": 69,
      "outputs": []
    },
    {
      "cell_type": "markdown",
      "metadata": {
        "id": "HhEJGtUEgLw2"
      },
      "source": [
        "#2. Classification Models"
      ]
    },
    {
      "cell_type": "markdown",
      "metadata": {
        "id": "QOD_BT1ZgsTc"
      },
      "source": [
        "##2.1 Logistic Regression:"
      ]
    },
    {
      "cell_type": "markdown",
      "metadata": {
        "id": "jv75XuCQgzxl"
      },
      "source": [
        "###2.1.1 Gradient Descent:"
      ]
    },
    {
      "cell_type": "markdown",
      "metadata": {
        "id": "Rb2trmayTuHL"
      },
      "source": [
        "Sigmoid function:"
      ]
    },
    {
      "cell_type": "code",
      "metadata": {
        "id": "UJWdalmVSZlv"
      },
      "source": [
        "def sigmoidFunction(w, x):                #Parameters => weight matrix and x\n",
        "  z = np.dot(w.T, x)                      #output => 1/1+e^{-wTx}\n",
        "  return (1.0/(1+np.exp(-z)))"
      ],
      "execution_count": 70,
      "outputs": []
    },
    {
      "cell_type": "markdown",
      "metadata": {
        "id": "o2_oahFLKq5q"
      },
      "source": [
        "Function to compute cost:"
      ]
    },
    {
      "cell_type": "code",
      "metadata": {
        "id": "G0Zzj-guKt0z"
      },
      "source": [
        "def computeCost(w, y, x):             #Computes \\sum yi * log(pi) + (1 - yi) log(1 - pi)\n",
        "  cost = 0\n",
        "  for i in range(len(x)):\n",
        "    p = sigmoidFunction(w, x[i])\n",
        "    cost += y[i] * math.log(p) + (1 - y[i]) * math.log(1 - p)\n",
        "  return -cost"
      ],
      "execution_count": 71,
      "outputs": []
    },
    {
      "cell_type": "markdown",
      "metadata": {
        "id": "Obgftq79Tdpw"
      },
      "source": [
        "Plot cost vs iteration:"
      ]
    },
    {
      "cell_type": "code",
      "metadata": {
        "id": "S7U6EaZZThYw"
      },
      "source": [
        "def plotCost(cost):\n",
        "  plt.figure(figsize=(5,5))\n",
        "  plt.plot(cost)\n",
        "  plt.xlabel('iteration')\n",
        "  plt.ylabel('Loss')\n",
        "  plt.title('Loss curve')\n",
        "  plt.grid()\n",
        "  plt.show()"
      ],
      "execution_count": 72,
      "outputs": []
    },
    {
      "cell_type": "markdown",
      "metadata": {
        "id": "BeSyQsW8wWTi"
      },
      "source": [
        "Gradient Descent function:"
      ]
    },
    {
      "cell_type": "code",
      "metadata": {
        "id": "C9SjRKcgwYKj"
      },
      "source": [
        "def gradient_descent(x, y, weight, iter, learningRate):        #Function to do gradient descent\n",
        "  costs = []\n",
        "  for i in range(iter):\n",
        "    p = [0] * len(x)\n",
        "    for j in range(len(x)):\n",
        "      p[j] = sigmoidFunction(weight, x[j])\n",
        "    error = p - y                                        \n",
        "    grad = np.dot(x.transpose(), error) / len(x)\n",
        "    weight -= learningRate * grad\n",
        "    costs.append(computeCost(weight, y, x))\n",
        "  return weight, costs"
      ],
      "execution_count": 73,
      "outputs": []
    },
    {
      "cell_type": "markdown",
      "metadata": {
        "id": "jYI99142UjWT"
      },
      "source": [
        "Parameters for gradient descent:"
      ]
    },
    {
      "cell_type": "code",
      "metadata": {
        "id": "WyYd7N10Uiug"
      },
      "source": [
        "noOfFeatures = len(x_trainG[0]) \n",
        "noOfIterations = 2500                       #No of Iterations\n",
        "mu = 0.5                                    #learning coefficient\n",
        "weight = np.array([0.1] * noOfFeatures)     #w is weight matrix"
      ],
      "execution_count": 74,
      "outputs": []
    },
    {
      "cell_type": "code",
      "metadata": {
        "colab": {
          "base_uri": "https://localhost:8080/",
          "height": 576
        },
        "id": "Qkl_-7JLzAmj",
        "outputId": "8acd8155-a577-44b3-b0ee-62372d6ccafb"
      },
      "source": [
        "weight, costs = gradient_descent(x_trainG, y_train, weight, noOfIterations, mu)\n",
        "print('Weight Matrix: ' + str(weight))\n",
        "\n",
        "print(\"\\033[4m\\nOn Testing Dataset:\\033[0m\")\n",
        "test(x_testG, y_test, weight)\n",
        "\n",
        "print(\"\\033[4m\\nOn Training Dataset:\\033[0m\")\n",
        "test(x_trainG, y_train, weight)\n",
        "\n",
        "print(\"\")\n",
        "\n",
        "plotCost(costs)"
      ],
      "execution_count": 75,
      "outputs": [
        {
          "output_type": "stream",
          "name": "stdout",
          "text": [
            "Weight Matrix: [-6.83547122 -0.21640168  6.34033716 -1.11474954  2.59515928  3.16694676\n",
            "  4.35613822]\n",
            "\u001b[4m\n",
            "On Testing Dataset:\u001b[0m\n",
            "Hit count: 157\n",
            "Miss count:33\n",
            "Accuracy: 82.63157894736842%\n",
            "\u001b[4m\n",
            "On Training Dataset:\u001b[0m\n",
            "Hit count: 361\n",
            "Miss count:83\n",
            "Accuracy: 81.30630630630631%\n",
            "\n"
          ]
        },
        {
          "output_type": "display_data",
          "data": {
            "image/png": "[encoded data removed]",
            "text/plain": [
              "<Figure size 360x360 with 1 Axes>"
            ]
          },
          "metadata": {
            "needs_background": "light"
          }
        }
      ]
    },
    {
      "cell_type": "markdown",
      "metadata": {
        "id": "veIWotzBg_6k"
      },
      "source": [
        "###2.1.3 Newton's Method:"
      ]
    },
    {
      "cell_type": "markdown",
      "metadata": {
        "id": "aHZljugSE6tB"
      },
      "source": [
        "Find F'(x):"
      ]
    },
    {
      "cell_type": "code",
      "metadata": {
        "id": "TCuIFS9-CTZq"
      },
      "source": [
        "def findDelX(w, x, y):                #Return xT(e^xw/(1+e^xw) - y)\n",
        "  ewx = np.exp(np.dot(x, w.T))\n",
        "  p = ewx/(1+ewx)\n",
        "  return np.dot(x.T, p - y).T"
      ],
      "execution_count": 76,
      "outputs": []
    },
    {
      "cell_type": "markdown",
      "metadata": {
        "id": "QtQghckWE9gT"
      },
      "source": [
        "Find F\"(x):"
      ]
    },
    {
      "cell_type": "code",
      "metadata": {
        "id": "q_zE5wseFAa1"
      },
      "source": [
        "def findDelSquareX(w, x, y):          #Return xT * diag(p(x)*(1-p(x))) * x;\n",
        "  num = np.exp(np.dot(x, w.T))\n",
        "  den = np.power(1 + num, 2)\n",
        "  D = np.diag(np.ravel(num / den))\n",
        "  return np.dot(x.T, np.dot(D, x))"
      ],
      "execution_count": 77,
      "outputs": []
    },
    {
      "cell_type": "markdown",
      "metadata": {
        "id": "VwHh1NHBXfJh"
      },
      "source": [
        "Parameters:"
      ]
    },
    {
      "cell_type": "code",
      "metadata": {
        "id": "819qgGbKXg5b"
      },
      "source": [
        "weight = np.array([0.1] *  len(x_trainG[0]))\n",
        "iterations = 10"
      ],
      "execution_count": 78,
      "outputs": []
    },
    {
      "cell_type": "markdown",
      "metadata": {
        "id": "C_Rf49ARXuUP"
      },
      "source": [
        "Gradient Descent:"
      ]
    },
    {
      "cell_type": "code",
      "metadata": {
        "colab": {
          "base_uri": "https://localhost:8080/",
          "height": 576
        },
        "id": "75Zfi95KFdJJ",
        "outputId": "83abbcdb-c439-434e-ced8-eedd04a92099"
      },
      "source": [
        "costs = []\n",
        "for i in range(iterations):\n",
        "  costs.append(computeCost(weight, y_train, x_trainG))\n",
        "  del2 = np.linalg.inv(findDelSquareX(weight, x_trainG, y_train))\n",
        "  del1 = findDelX(weight, x_trainG, y_train)\n",
        "  weight = np.subtract(weight, np.dot(del2, del1))\n",
        "print('Weight Matrix: ' + str(weight))\n",
        "\n",
        "print(\"\\033[4m\\nOn Testing Dataset:\\033[0m\")\n",
        "test(x_testG, y_test, weight)\n",
        "\n",
        "print(\"\\033[4m\\nOn Training Dataset:\\033[0m\")\n",
        "test(x_trainG, y_train, weight)\n",
        "\n",
        "print(\"\")\n",
        "\n",
        "plotCost(costs)"
      ],
      "execution_count": 79,
      "outputs": [
        {
          "output_type": "stream",
          "name": "stdout",
          "text": [
            "Weight Matrix: [-7.09705727 -0.23171453  6.61154119 -1.23195123  2.74498098  3.32119871\n",
            "  4.52119217]\n",
            "\u001b[4m\n",
            "On Testing Dataset:\u001b[0m\n",
            "Hit count: 156\n",
            "Miss count:34\n",
            "Accuracy: 82.10526315789474%\n",
            "\u001b[4m\n",
            "On Training Dataset:\u001b[0m\n",
            "Hit count: 360\n",
            "Miss count:84\n",
            "Accuracy: 81.08108108108108%\n",
            "\n"
          ]
        },
        {
          "output_type": "display_data",
          "data": {
            "image/png": "[encoded data removed]",
            "text/plain": [
              "<Figure size 360x360 with 1 Axes>"
            ]
          },
          "metadata": {
            "needs_background": "light"
          }
        }
      ]
    },
    {
      "cell_type": "markdown",
      "metadata": {
        "id": "-tMC5WNZhH57"
      },
      "source": [
        "##2.2 Naive Bayes (Univariate Gaussian):"
      ]
    },
    {
      "cell_type": "markdown",
      "metadata": {
        "id": "l1oQUFq_3bsM"
      },
      "source": [
        "Finding P(yi=c):"
      ]
    },
    {
      "cell_type": "code",
      "metadata": {
        "id": "u-93aO6l3fzI"
      },
      "source": [
        "p_diabetic = np.count_nonzero(y_train)/len(y_train)"
      ],
      "execution_count": 80,
      "outputs": []
    },
    {
      "cell_type": "markdown",
      "metadata": {
        "id": "Vm11o5b9E-dt"
      },
      "source": [
        "Split dataset into Diabetic and non-Diabetic:"
      ]
    },
    {
      "cell_type": "code",
      "metadata": {
        "id": "XKpO1Btk6dBP"
      },
      "source": [
        "x_trainDiabetic = []\n",
        "x_trainNonDiabetic = []\n",
        "for i in range(len(y_train)):\n",
        "  if(y_train[i] == 1.0):\n",
        "    x_trainDiabetic.append(x_train[i])\n",
        "  else:\n",
        "    x_trainNonDiabetic.append(x_train[i])\n",
        "\n",
        "x_trainDiabetic = normalize(np.array(x_trainDiabetic))\n",
        "x_trainNonDiabetic = normalize(np.array(x_trainNonDiabetic))"
      ],
      "execution_count": 81,
      "outputs": []
    },
    {
      "cell_type": "markdown",
      "metadata": {
        "id": "3Uphyxi4FFmf"
      },
      "source": [
        "Find mean and variance:"
      ]
    },
    {
      "cell_type": "code",
      "metadata": {
        "id": "QtUt_i-QFE5i"
      },
      "source": [
        "Dia_Mean = np.mean(x_trainDiabetic, axis=0)\n",
        "Dia_var = np.var(x_trainDiabetic, axis=0)\n",
        "NonDia_Mean = np.mean(x_trainNonDiabetic, axis=0)\n",
        "NonDia_var = np.var(x_trainNonDiabetic, axis=0)"
      ],
      "execution_count": 82,
      "outputs": []
    },
    {
      "cell_type": "markdown",
      "metadata": {
        "id": "Iz5vjgEjMOGJ"
      },
      "source": [
        "Compute P(xi/yi):"
      ]
    },
    {
      "cell_type": "code",
      "metadata": {
        "id": "w9DOsD8wMTcl"
      },
      "source": [
        "def Gaussian(mean, var, x):\n",
        "  denominator = math.sqrt(2.0*np.pi*var)\n",
        "  pow = -1.0*(x-mean)*(x-mean)/(2.0*var)\n",
        "  return np.exp(pow)/denominator"
      ],
      "execution_count": 83,
      "outputs": []
    },
    {
      "cell_type": "markdown",
      "metadata": {
        "id": "ofiYCKqQORzX"
      },
      "source": [
        "Inference:"
      ]
    },
    {
      "cell_type": "code",
      "metadata": {
        "id": "y7igPL3YOYv-"
      },
      "source": [
        "def Inference(meanD, varD, meanND, varND, x, pDiab):\n",
        "  gaussD = Gaussian(meanD, varD, x)\n",
        "  gaussND = Gaussian(meanND, varND, x)\n",
        "  pD = pDiab*gaussD\n",
        "  pND = (1-pDiab)*gaussND\n",
        "  if(pD > pND):\n",
        "    return 1\n",
        "  return 0"
      ],
      "execution_count": 84,
      "outputs": []
    },
    {
      "cell_type": "markdown",
      "metadata": {
        "id": "Mt-S-ioHR2ik"
      },
      "source": [
        "Testing Algo:"
      ]
    },
    {
      "cell_type": "code",
      "metadata": {
        "id": "kqKQGL87P8tO"
      },
      "source": [
        "def testUGNB(index, x, y):\n",
        "  success = 0\n",
        "  for i in range(len(x)):\n",
        "    infer = Inference(Dia_Mean[index], Dia_var[index], NonDia_Mean[index], NonDia_var[index], x[i][index], p_diabetic)\n",
        "    if(infer == int(y[i])):\n",
        "      success += 1\n",
        "\n",
        "  Accuracy = 100.0 * success/len(x)  \n",
        "  Miss = len(x) - success\n",
        "  print('Hit count: ' + str(success))\n",
        "  print('Miss count:' + str(Miss))\n",
        "  print('Accuracy: '+ str(Accuracy) + '%' )"
      ],
      "execution_count": 85,
      "outputs": []
    },
    {
      "cell_type": "markdown",
      "metadata": {
        "id": "eH_x5nAHqNLf"
      },
      "source": [
        "Plot Gaussian curve:"
      ]
    },
    {
      "cell_type": "code",
      "metadata": {
        "id": "-iseK_PSp31K"
      },
      "source": [
        "def plotProbability(index, Ttitle):\n",
        "  x1 = np.linspace(Dia_Mean[index]-3.5* math.sqrt(Dia_var[index]), Dia_Mean[index]+3.5* math.sqrt(Dia_var[index]),500)\n",
        "  x2 = np.linspace(NonDia_Mean[index]-3.5*math.sqrt(NonDia_var[index]),NonDia_Mean[index]+3.5*math.sqrt(NonDia_var[index]),500)\n",
        "  plt.plot(x2, (1 - p_diabetic) * stats.norm.pdf(x1, NonDia_Mean[index], math.sqrt(NonDia_var[index])))\n",
        "  plt.plot(x1, p_diabetic * stats.norm.pdf(x1, Dia_Mean[index], math.sqrt(Dia_var[index])))\n",
        "  plt.legend(['0','1'])\n",
        "  plt.title(Ttitle)\n",
        "  plt.xlabel('x')\n",
        "  plt.ylabel('p(x)')\n",
        "  plt.grid()\n",
        "  plt.show()"
      ],
      "execution_count": 86,
      "outputs": []
    },
    {
      "cell_type": "markdown",
      "metadata": {
        "id": "EcAL5p79uCUL"
      },
      "source": [
        "###2.2.1 Pregnancies:"
      ]
    },
    {
      "cell_type": "markdown",
      "metadata": {
        "id": "O7IWBcMTuKhB"
      },
      "source": [
        "Histogram:"
      ]
    },
    {
      "cell_type": "code",
      "metadata": {
        "colab": {
          "base_uri": "https://localhost:8080/",
          "height": 855
        },
        "id": "LoELu46GuJru",
        "outputId": "b75013cb-f80c-4ba3-b734-4f6d160ede76"
      },
      "source": [
        "print(\"\\033[4m\\nOn Testing Dataset:\\033[0m\")\n",
        "testUGNB(0, x_test, y_test)\n",
        "print(\"\\033[4m\\nOn Training Dataset:\\033[0m\")\n",
        "testUGNB(0, x_train, y_train)\n",
        "print(\"\")\n",
        "sns.displot(df, x='Pregnancies', hue='Outcome')\n",
        "plt.show()\n",
        "print(\"\")\n",
        "plotProbability(0, 'Pregnancies')"
      ],
      "execution_count": 87,
      "outputs": [
        {
          "output_type": "stream",
          "name": "stdout",
          "text": [
            "\u001b[4m\n",
            "On Testing Dataset:\u001b[0m\n",
            "Hit count: 121\n",
            "Miss count:69\n",
            "Accuracy: 63.68421052631579%\n",
            "\u001b[4m\n",
            "On Training Dataset:\u001b[0m\n",
            "Hit count: 285\n",
            "Miss count:159\n",
            "Accuracy: 64.1891891891892%\n",
            "\n"
          ]
        },
        {
          "output_type": "display_data",
          "data": {
            "image/png": "[encoded data removed]",
            "text/plain": [
              "<Figure size 413.25x360 with 1 Axes>"
            ]
          },
          "metadata": {
            "needs_background": "light"
          }
        },
        {
          "output_type": "stream",
          "name": "stdout",
          "text": [
            "\n"
          ]
        },
        {
          "output_type": "display_data",
          "data": {
            "image/png": "[encoded data removed]",
            "text/plain": [
              "<Figure size 432x288 with 1 Axes>"
            ]
          },
          "metadata": {
            "needs_background": "light"
          }
        }
      ]
    },
    {
      "cell_type": "markdown",
      "metadata": {
        "id": "oQWHzo9Rv-x4"
      },
      "source": [
        "###2.2.2 Glucose:"
      ]
    },
    {
      "cell_type": "markdown",
      "metadata": {
        "id": "bGhIAq9uwa-9"
      },
      "source": [
        "Histogram:"
      ]
    },
    {
      "cell_type": "code",
      "metadata": {
        "colab": {
          "base_uri": "https://localhost:8080/",
          "height": 855
        },
        "id": "vqwl7SQkwg5V",
        "outputId": "73012540-dc83-4fc7-cb1e-1a18841a57da"
      },
      "source": [
        "print(\"\\033[4m\\nOn Testing Dataset:\\033[0m\")\n",
        "testUGNB(1, x_test, y_test)\n",
        "print(\"\\033[4m\\nOn Training Dataset:\\033[0m\")\n",
        "testUGNB(1, x_train, y_train)\n",
        "print(\"\")\n",
        "sns.displot(df, x='Glucose', hue='Outcome')\n",
        "plt.show()\n",
        "print(\"\")\n",
        "plotProbability(1, 'Glucose')"
      ],
      "execution_count": 88,
      "outputs": [
        {
          "output_type": "stream",
          "name": "stdout",
          "text": [
            "\u001b[4m\n",
            "On Testing Dataset:\u001b[0m\n",
            "Hit count: 135\n",
            "Miss count:55\n",
            "Accuracy: 71.05263157894737%\n",
            "\u001b[4m\n",
            "On Training Dataset:\u001b[0m\n",
            "Hit count: 320\n",
            "Miss count:124\n",
            "Accuracy: 72.07207207207207%\n",
            "\n"
          ]
        },
        {
          "output_type": "display_data",
          "data": {
            "image/png": "[encoded data removed]",
            "text/plain": [
              "<Figure size 413.25x360 with 1 Axes>"
            ]
          },
          "metadata": {
            "needs_background": "light"
          }
        },
        {
          "output_type": "stream",
          "name": "stdout",
          "text": [
            "\n"
          ]
        },
        {
          "output_type": "display_data",
          "data": {
            "image/png": "[encoded data removed]",
            "text/plain": [
              "<Figure size 432x288 with 1 Axes>"
            ]
          },
          "metadata": {
            "needs_background": "light"
          }
        }
      ]
    },
    {
      "cell_type": "markdown",
      "metadata": {
        "id": "It0voiQvwAKN"
      },
      "source": [
        "###2.2.3 BloodPressure:"
      ]
    },
    {
      "cell_type": "markdown",
      "metadata": {
        "id": "3P--YMR0wbWt"
      },
      "source": [
        "Histogram:"
      ]
    },
    {
      "cell_type": "code",
      "metadata": {
        "colab": {
          "base_uri": "https://localhost:8080/",
          "height": 855
        },
        "id": "TS6BT43iwjy6",
        "outputId": "2c736d93-e9da-4737-af71-0de0c601494d"
      },
      "source": [
        "print(\"\\033[4m\\nOn Testing Dataset:\\033[0m\")\n",
        "testUGNB(2, x_test, y_test)\n",
        "print(\"\\033[4m\\nOn Training Dataset:\\033[0m\")\n",
        "testUGNB(2, x_train, y_train)\n",
        "print(\"\")\n",
        "sns.displot(df, x='BloodPressure', hue='Outcome')\n",
        "plt.show()\n",
        "print(\"\")\n",
        "plotProbability(2, 'BloodPressure')"
      ],
      "execution_count": 89,
      "outputs": [
        {
          "output_type": "stream",
          "name": "stdout",
          "text": [
            "\u001b[4m\n",
            "On Testing Dataset:\u001b[0m\n",
            "Hit count: 105\n",
            "Miss count:85\n",
            "Accuracy: 55.26315789473684%\n",
            "\u001b[4m\n",
            "On Training Dataset:\u001b[0m\n",
            "Hit count: 272\n",
            "Miss count:172\n",
            "Accuracy: 61.26126126126126%\n",
            "\n"
          ]
        },
        {
          "output_type": "display_data",
          "data": {
            "image/png": "[encoded data removed]",
            "text/plain": [
              "<Figure size 413.25x360 with 1 Axes>"
            ]
          },
          "metadata": {
            "needs_background": "light"
          }
        },
        {
          "output_type": "stream",
          "name": "stdout",
          "text": [
            "\n"
          ]
        },
        {
          "output_type": "display_data",
          "data": {
            "image/png": "[encoded data removed]",
            "text/plain": [
              "<Figure size 432x288 with 1 Axes>"
            ]
          },
          "metadata": {
            "needs_background": "light"
          }
        }
      ]
    },
    {
      "cell_type": "markdown",
      "metadata": {
        "id": "FTw958lcwATL"
      },
      "source": [
        "###2.2.4 BMI:"
      ]
    },
    {
      "cell_type": "markdown",
      "metadata": {
        "id": "XkwYgZmwwbuk"
      },
      "source": [
        "Histogram:"
      ]
    },
    {
      "cell_type": "code",
      "metadata": {
        "colab": {
          "base_uri": "https://localhost:8080/",
          "height": 855
        },
        "id": "GDSeiXpBwmAR",
        "outputId": "8bf01cd1-25d2-47dd-94ad-e7475d5798db"
      },
      "source": [
        "print(\"\\033[4m\\nOn Testing Dataset:\\033[0m\")\n",
        "testUGNB(3, x_test, y_test)\n",
        "print(\"\\033[4m\\nOn Training Dataset:\\033[0m\")\n",
        "testUGNB(3, x_train, y_train)\n",
        "print(\"\")\n",
        "sns.displot(df, x='BMI', hue='Outcome')\n",
        "plt.show()\n",
        "print(\"\")\n",
        "plotProbability(3, 'BMI')"
      ],
      "execution_count": 90,
      "outputs": [
        {
          "output_type": "stream",
          "name": "stdout",
          "text": [
            "\u001b[4m\n",
            "On Testing Dataset:\u001b[0m\n",
            "Hit count: 119\n",
            "Miss count:71\n",
            "Accuracy: 62.63157894736842%\n",
            "\u001b[4m\n",
            "On Training Dataset:\u001b[0m\n",
            "Hit count: 281\n",
            "Miss count:163\n",
            "Accuracy: 63.288288288288285%\n",
            "\n"
          ]
        },
        {
          "output_type": "display_data",
          "data": {
            "image/png": "[encoded data removed]",
            "text/plain": [
              "<Figure size 413.25x360 with 1 Axes>"
            ]
          },
          "metadata": {
            "needs_background": "light"
          }
        },
        {
          "output_type": "stream",
          "name": "stdout",
          "text": [
            "\n"
          ]
        },
        {
          "output_type": "display_data",
          "data": {
            "image/png": "[encoded data removed]",
            "text/plain": [
              "<Figure size 432x288 with 1 Axes>"
            ]
          },
          "metadata": {
            "needs_background": "light"
          }
        }
      ]
    },
    {
      "cell_type": "markdown",
      "metadata": {
        "id": "voty4LnBwAZh"
      },
      "source": [
        "###2.2.5 DiabetesPedigreeFunction:"
      ]
    },
    {
      "cell_type": "markdown",
      "metadata": {
        "id": "MVmxcoKKwcIS"
      },
      "source": [
        "Histogram:"
      ]
    },
    {
      "cell_type": "code",
      "metadata": {
        "colab": {
          "base_uri": "https://localhost:8080/",
          "height": 855
        },
        "id": "0TPJcSUvwnn3",
        "outputId": "2bc782e0-ce8c-4a75-b42e-e01c99af6acd"
      },
      "source": [
        "print(\"\\033[4m\\nOn Testing Dataset:\\033[0m\")\n",
        "testUGNB(4, x_test, y_test)\n",
        "print(\"\\033[4m\\nOn Training Dataset:\\033[0m\")\n",
        "testUGNB(4, x_train, y_train)\n",
        "print(\"\")\n",
        "sns.displot(df, x='DiabetesPedigreeFunction', hue='Outcome')\n",
        "plt.show()\n",
        "print(\"\")\n",
        "plotProbability(4, 'DiabetesPedigreeFunction')"
      ],
      "execution_count": 91,
      "outputs": [
        {
          "output_type": "stream",
          "name": "stdout",
          "text": [
            "\u001b[4m\n",
            "On Testing Dataset:\u001b[0m\n",
            "Hit count: 124\n",
            "Miss count:66\n",
            "Accuracy: 65.26315789473684%\n",
            "\u001b[4m\n",
            "On Training Dataset:\u001b[0m\n",
            "Hit count: 297\n",
            "Miss count:147\n",
            "Accuracy: 66.89189189189189%\n",
            "\n"
          ]
        },
        {
          "output_type": "display_data",
          "data": {
            "image/png": "[encoded data removed]",
            "text/plain": [
              "<Figure size 413.25x360 with 1 Axes>"
            ]
          },
          "metadata": {
            "needs_background": "light"
          }
        },
        {
          "output_type": "stream",
          "name": "stdout",
          "text": [
            "\n"
          ]
        },
        {
          "output_type": "display_data",
          "data": {
            "image/png": "[encoded data removed]",
            "text/plain": [
              "<Figure size 432x288 with 1 Axes>"
            ]
          },
          "metadata": {
            "needs_background": "light"
          }
        }
      ]
    },
    {
      "cell_type": "markdown",
      "metadata": {
        "id": "LRXRZSbuwVZd"
      },
      "source": [
        "###2.2.6 Age:"
      ]
    },
    {
      "cell_type": "markdown",
      "metadata": {
        "id": "yjf6KAjvwcV3"
      },
      "source": [
        "Histogram:"
      ]
    },
    {
      "cell_type": "code",
      "metadata": {
        "colab": {
          "base_uri": "https://localhost:8080/",
          "height": 855
        },
        "id": "2Qq45lZLwrTX",
        "outputId": "f92da1b8-7775-4392-bc81-5ed2abf1bfe5"
      },
      "source": [
        "print(\"\\033[4m\\nOn Testing Dataset:\\033[0m\")\n",
        "testUGNB(5, x_test, y_test)\n",
        "print(\"\\033[4m\\nOn Training Dataset:\\033[0m\")\n",
        "testUGNB(5, x_train, y_train)\n",
        "print(\"\")\n",
        "sns.displot(df, x='Age', hue='Outcome')\n",
        "plt.show()\n",
        "print(\"\")\n",
        "plotProbability(5, 'Age')"
      ],
      "execution_count": 92,
      "outputs": [
        {
          "output_type": "stream",
          "name": "stdout",
          "text": [
            "\u001b[4m\n",
            "On Testing Dataset:\u001b[0m\n",
            "Hit count: 134\n",
            "Miss count:56\n",
            "Accuracy: 70.52631578947368%\n",
            "\u001b[4m\n",
            "On Training Dataset:\u001b[0m\n",
            "Hit count: 321\n",
            "Miss count:123\n",
            "Accuracy: 72.29729729729729%\n",
            "\n"
          ]
        },
        {
          "output_type": "display_data",
          "data": {
            "image/png": "[encoded data removed]",
            "text/plain": [
              "<Figure size 413.25x360 with 1 Axes>"
            ]
          },
          "metadata": {
            "needs_background": "light"
          }
        },
        {
          "output_type": "stream",
          "name": "stdout",
          "text": [
            "\n"
          ]
        },
        {
          "output_type": "display_data",
          "data": {
            "image/png": "[encoded data removed]",
            "text/plain": [
              "<Figure size 432x288 with 1 Axes>"
            ]
          },
          "metadata": {
            "needs_background": "light"
          }
        }
      ]
    },
    {
      "cell_type": "markdown",
      "metadata": {
        "id": "WoOsuFnfmgjv"
      },
      "source": [
        "##2.3 Naive Bayes (Multivariate Gaussian):"
      ]
    },
    {
      "cell_type": "markdown",
      "metadata": {
        "id": "fdLoTIBgm2EI"
      },
      "source": [
        "Here, we don't implement Naive Bayes for multivariate gaussian. Instead, we explore the dataset to see if there are any columns due to which multivariate gaussian would have performed better."
      ]
    },
    {
      "cell_type": "markdown",
      "metadata": {
        "id": "d_ZERaLMoRiL"
      },
      "source": [
        "Heatmap of Correlation matrix:"
      ]
    },
    {
      "cell_type": "code",
      "metadata": {
        "colab": {
          "base_uri": "https://localhost:8080/",
          "height": 624
        },
        "id": "VAlHAhEeoQ_O",
        "outputId": "4b4520a1-6036-4a51-9abd-6e00c62ee91a"
      },
      "source": [
        "plt.figure(figsize=(10,8))\n",
        "cmap = sns.cm.rocket_r\n",
        "sns.heatmap(df.corr().abs(), vmin = 0, annot=True, cmap=\"Blues\")"
      ],
      "execution_count": 93,
      "outputs": [
        {
          "output_type": "execute_result",
          "data": {
            "text/plain": [
              "<matplotlib.axes._subplots.AxesSubplot at 0x7f46e79cffd0>"
            ]
          },
          "metadata": {},
          "execution_count": 93
        },
        {
          "output_type": "display_data",
          "data": {
            "image/png": "[encoded data removed]",
            "text/plain": [
              "<Figure size 720x576 with 2 Axes>"
            ]
          },
          "metadata": {
            "needs_background": "light"
          }
        }
      ]
    },
    {
      "cell_type": "markdown",
      "metadata": {
        "id": "a32wOLZ4BJjP"
      },
      "source": [
        "The above heatmap gives us a correlation matrix where each cell denotes the correlation coefficient of the corresponding features. We interpret correlation coefficient as follows:\n",
        "\n",
        "*   A positive correlation coefficient means both the features have a positive relationship. It implies that both the features will increase together and decrease together.\n",
        "*   Similarly, a negative correlation coefficient implies that the features have negative relationship. It implies that one feature will decrease as other increases.\n",
        "*   A correlation coefficient of zero implies that both the features are independent of each other.\n",
        "\n",
        "While implementing multivariate gaussian, we assume the features to be independent of each other. For this reason, we would prefer features which are strongly independent of each other. Thus, features whose correlation coefficients are closer to zero would be prefered over the features whose coefficients are farther away from zero. \n",
        "\n",
        "Some pair of features that satisfy the above condition are as follows:\n",
        "\n",
        "*   BMI and Pregnancies (Correlation Coefficient: 0.017)\n",
        "*   DiabetesPedigreeFunction and Pregnancies (Correlation Coefficient: 0.033)\n",
        "*   DiabetesPedigreeFunction and BloodPressure (Correlation Coefficient: 0.042)\n",
        "*   Age and DiabetesPedigreeFunction (Correlation Coefficient: 0.084)\n",
        "\n",
        "We would prefer these set of features for multivariate gaussian because of their strong linear independence as compaired to other pairs of features.\n"
      ]
    }
  ]
}